{
 "cells": [
  {
   "cell_type": "markdown",
   "metadata": {},
   "source": [
    "Project Churn:\n",
    "    - Creating a Binary Classifier to predict Instances that will Churn('LOST')\n",
    "    - Training and Testing Using Instances, Contracts on all columns as of 04/05/17 \n",
    "                                          and quarters: '2016 Q 4', '2017 Q 1', '2017 Q 2', '2017 Q 3' "
   ]
  },
  {
   "cell_type": "markdown",
   "metadata": {},
   "source": [
    "### Load Libraries"
   ]
  },
  {
   "cell_type": "code",
   "execution_count": 1,
   "metadata": {
    "collapsed": true
   },
   "outputs": [],
   "source": [
    "import cx_Oracle\n",
    "import itertools\n",
    "import numpy as np\n",
    "import pandas as pd\n",
    "import time\n",
    "\n",
    "from collections import defaultdict\n",
    "from datetime import date\n",
    "\n",
    "from sklearn.pipeline import Pipeline, FeatureUnion\n",
    "from sklearn.preprocessing import StandardScaler, LabelEncoder, FunctionTransformer\n",
    "from sklearn.cross_validation import KFold, train_test_split, cross_val_score\n",
    "from sklearn.ensemble import RandomForestClassifier as RF\n",
    "from sklearn.neighbors import KNeighborsClassifier as KNN\n",
    "from sklearn.linear_model import LogisticRegression as LR\n",
    "from sklearn.metrics import confusion_matrix, accuracy_score, precision_score, recall_score, f1_score, roc_curve\n",
    "from sklearn.base import BaseEstimator, TransformerMixin\n",
    "from sklearn.grid_search import GridSearchCV\n",
    "\n",
    "import matplotlib.pyplot as plt\n",
    "%matplotlib inline"
   ]
  },
  {
   "cell_type": "markdown",
   "metadata": {},
   "source": [
    "### Load Useful Functions"
   ]
  },
  {
   "cell_type": "code",
   "execution_count": 2,
   "metadata": {
    "collapsed": true
   },
   "outputs": [],
   "source": [
    "def timer(start, end):\n",
    "    time_taken = end - start \n",
    "    hours, rest = divmod(time_taken, 3600)\n",
    "    minutes, seconds = divmod(rest, 60)\n",
    "    return \"Process took: {} hours, {} minutes, {} seconds\".format(hours, minutes, seconds)"
   ]
  },
  {
   "cell_type": "markdown",
   "metadata": {},
   "source": [
    "### Connect to Oracle"
   ]
  },
  {
   "cell_type": "code",
   "execution_count": 3,
   "metadata": {
    "collapsed": true
   },
   "outputs": [],
   "source": [
    "def connect_to_oracle(flag='DVTAS3'):\n",
    "    if flag == 'DVTA13':\n",
    "        conn = cx_Oracle.connect('VTAS_SLSFIN/a8tvzGVS@vmsodvtas011.ORACLEOUTSOURCING.COM:5010/DVTA13')\n",
    "    else:\n",
    "        conn = cx_Oracle.connect('DVTAS3_DW/KCu_A6BV@vmsodvtas001.ORACLEOUTSOURCING.COM:5010/DVTAS3')\n",
    "    return conn\n",
    "\n",
    "conn = connect_to_oracle('DVTA13')\n",
    "curs = conn.cursor()\n",
    "curs.arraysize = 1000"
   ]
  },
  {
   "cell_type": "markdown",
   "metadata": {},
   "source": [
    "### Get data"
   ]
  },
  {
   "cell_type": "code",
   "execution_count": 4,
   "metadata": {
    "collapsed": false
   },
   "outputs": [
    {
     "name": "stdout",
     "output_type": "stream",
     "text": [
      "Processing...  2016 Q 4\n",
      "Process took: 0.0 hours, 0.0 minutes, 37.049999952316284 seconds\n",
      "Number of records for 2016 Q 4 : 203998\n",
      "Processing...  2017 Q 1\n",
      "Process took: 0.0 hours, 0.0 minutes, 27.407999992370605 seconds\n",
      "Number of records for 2017 Q 1 : 153434\n",
      "Processing...  2017 Q 2\n",
      "Process took: 0.0 hours, 0.0 minutes, 22.232399940490723 seconds\n",
      "Number of records for 2017 Q 2 : 143676\n",
      "Processing...  2017 Q 3\n",
      "Process took: 0.0 hours, 0.0 minutes, 16.602400064468384 seconds\n",
      "Number of records for 2017 Q 3 : 100524\n"
     ]
    }
   ],
   "source": [
    "# Create starter df with column names\n",
    "col_names =['INSTANCE_ID', 'CONTRACT_ID', 'OPTY_STATUS', 'ITEM_QUANTITY', 'PRICE_NEGOTIATED', 'ERP_ID', 'PARTY_SITE_NUMBER',\n",
    "              'X_CDH_ID', 'PARTY_SITE_ID', 'PARTY_SITE_ID_VALIDATION', 'INSTALL_SITE_ID', 'SFDC_ID', 'SIC_CODE',\n",
    "              'PRIMARYSIC', 'ACCOUNT_NAME', 'SALES_CHANNEL_CODE', 'INSTANCE_COUNT', 'START_DATE', 'EXPIRATION_DATE',\n",
    "              'CONTRACT_LENGTH', 'INVENTORY_ITEM_ID', 'INVENTORY_ITEM_ID_VALIDATION', 'PRODUCT', 'BUYING_PROGRAM', 'SUB_REGION',\n",
    "              'KEY_CUST_FLAG', 'INSTANCE_AGE', 'INDUSTRY', 'LOST_CONTRACTS', 'TOTAL_INSTANCES_OWNED','CONTRACT_LINE_END_DATE',\n",
    "              'CONTRACT_LINE_STATUS_CODE', 'NXT_CONTRACT_LN_END_DATE', 'NXT_CONTRACT_LN_STATUS_CODE', 'PAST_CASE_COUNT',\n",
    "              'HIGH_SEVERITY_COUNT', 'PAST_ESCALATION_COUNT', 'OPTY_AMT']\n",
    "df = pd.DataFrame(np.zeros((1, 38)), columns=col_names)\n",
    "\n",
    "# create a loop to concatenate the other quarters\n",
    "for qtr in ['2016 Q 4', '2017 Q 1', '2017 Q 2', '2017 Q 3']:\n",
    "    print(\"Processing... \", qtr)\n",
    "    querystring = \"SELECT * FROM CHURN_V1 WHERE EXPIRATION_DATE = '\" + qtr + \"'\"\n",
    "    curs.execute(querystring)\n",
    "    start = time.time()\n",
    "    res = curs.fetchall()\n",
    "    end = time.time()\n",
    "    print(timer(start, end))\n",
    "    df_temp = pd.DataFrame(res, columns=col_names)\n",
    "    print(\"Number of records for \" + qtr + \" :\", df_temp.shape[0])\n",
    "    df = pd.concat([df, df_temp])\n",
    "    \n",
    "# Run only once\n",
    "df.drop(df.iloc[0, :], inplace=True)"
   ]
  },
  {
   "cell_type": "code",
   "execution_count": 5,
   "metadata": {
    "collapsed": false
   },
   "outputs": [
    {
     "name": "stdout",
     "output_type": "stream",
     "text": [
      "Number of records total:  601628\n"
     ]
    },
    {
     "data": {
      "text/plain": [
       "OPTY_STATUS\n",
       "LOST       290919\n",
       "RENEWED    310709\n",
       "Name: INSTANCE_ID, dtype: int64"
      ]
     },
     "execution_count": 5,
     "metadata": {},
     "output_type": "execute_result"
    }
   ],
   "source": [
    "print(\"Number of records total: \", df.shape[0])\n",
    "# Number of InstanceID's by Opty_Status\n",
    "df.groupby('OPTY_STATUS')['INSTANCE_ID'].count()"
   ]
  },
  {
   "cell_type": "code",
   "execution_count": 8,
   "metadata": {
    "collapsed": true
   },
   "outputs": [],
   "source": [
    "df_build = df.copy()"
   ]
  },
  {
   "cell_type": "code",
   "execution_count": null,
   "metadata": {
    "collapsed": true
   },
   "outputs": [],
   "source": [
    "'INSTANCE_ID' -- identifier\n",
    "'CONTRACT_ID' -- identifier\n",
    "'ERP_ID', -- identifier\n",
    "'PARTY_SITE_NUMBER', -- identifier\n",
    "'X_CDH_ID', -- identifier\n",
    "'PARTY_SITE_ID', -- identifier\n",
    "'PARTY_SITE_ID_VALIDATION', -- identifier\n",
    "'INSTALL_SITE_ID', -- identifier\n",
    "'SFDC_ID', -- identifier\n",
    "'PRIMARYSIC', -- identifier\n",
    "'INVENTORY_ITEM_ID', -- identifier\n",
    "'INVENTORY_ITEM_ID_VALIDATION', -- identifier\n",
    "\n",
    "\n",
    "'ITEM_QUANTITY' -- numeric NO MODIFICATION NEEDED\n",
    "'PRICE_NEGOTIATED', -- numeric NO MODIFICATION NEEDED\n",
    "'INSTANCE_COUNT', -- numeric NO MODIFICATION NEEDED\n",
    "'INSTANCE_AGE', -- numeric ROW REMOVE\n",
    "'LOST_CONTRACTS', -- numeric ROW REMOVE\n",
    "'PAST_CASE_COUNT', -- numeric FILL IN 0\n",
    "'HIGH_SEVERITY_COUNT', -- numeric FILL IN 0\n",
    "'PAST_ESCALATION_COUNT', -- numeric FILL IN 0\n",
    "'OPTY_AMT', -- numeric FILL IN 0\n",
    "'CONTRACT_LENGTH', -- numeric ROW REMOVE\n",
    "'TOTAL_INSTANCES_OWNED', -- numeric ROW REMOVE\n",
    "\n",
    "\n",
    "'SIC_CODE', -- categorical\n",
    "'ACCOUNT_NAME', -- categorical\n",
    "'SALES_CHANNEL_CODE', -- categorical\n",
    "'START_DATE', -- categorical? remove year, keep only quarter ('2017 Q 1' --> 'Q 1')\n",
    "'EXPIRATION_DATE', -- categorical? remove year, keep only quarter ('2017 Q 1' --> 'Q 1')\n",
    "'PRODUCT', -- categorical\n",
    "'BUYING_PROGRAM', -- categorical\n",
    "'SUB_REGION', -- categorical\n",
    "'INDUSTRY', -- categorical DROP (TOO MANY MISSING VALUES)\n",
    "'CONTRACT_LINE_STATUS_CODE', -- categorical DROP NOT NEEDED\n",
    "'NXT_CONTRACT_LN_STATUS_CODE', -- categorical DROP NOT NEEDED\n",
    "\n",
    "\n",
    "'KEY_CUST_FLAG', -- drop?\n",
    "'CONTRACT_LINE_END_DATE', -- drop?\n",
    "'NXT_CONTRACT_LN_END_DATE', -- drop? \n",
    "\n",
    "'OPTY_STATUS' -- label? "
   ]
  },
  {
   "cell_type": "code",
   "execution_count": 6,
   "metadata": {
    "collapsed": false
   },
   "outputs": [
    {
     "data": {
      "text/plain": [
       "INSTANCE_ID                     0.000000\n",
       "CONTRACT_ID                     0.000000\n",
       "OPTY_STATUS                     0.000000\n",
       "ITEM_QUANTITY                   0.000000\n",
       "PRICE_NEGOTIATED                0.000000\n",
       "ERP_ID                          0.011490\n",
       "PARTY_SITE_NUMBER               0.002392\n",
       "X_CDH_ID                        0.283539\n",
       "PARTY_SITE_ID                   0.002392\n",
       "PARTY_SITE_ID_VALIDATION        0.000000\n",
       "INSTALL_SITE_ID                 0.000000\n",
       "SFDC_ID                         0.283539\n",
       "SIC_CODE                        0.283539\n",
       "PRIMARYSIC                      0.438793\n",
       "ACCOUNT_NAME                    0.012044\n",
       "SALES_CHANNEL_CODE              0.012086\n",
       "INSTANCE_COUNT                  0.000000\n",
       "START_DATE                      0.000156\n",
       "EXPIRATION_DATE                 0.000000\n",
       "CONTRACT_LENGTH                 0.000156\n",
       "INVENTORY_ITEM_ID               0.000000\n",
       "INVENTORY_ITEM_ID_VALIDATION    0.000000\n",
       "PRODUCT                         0.000000\n",
       "BUYING_PROGRAM                  0.000000\n",
       "SUB_REGION                      0.000000\n",
       "KEY_CUST_FLAG                   0.636285\n",
       "INSTANCE_AGE                    0.000126\n",
       "INDUSTRY                        0.438793\n",
       "LOST_CONTRACTS                  0.018698\n",
       "TOTAL_INSTANCES_OWNED           0.011490\n",
       "CONTRACT_LINE_END_DATE          0.000000\n",
       "CONTRACT_LINE_STATUS_CODE       0.000000\n",
       "NXT_CONTRACT_LN_END_DATE        0.383041\n",
       "NXT_CONTRACT_LN_STATUS_CODE     0.383041\n",
       "PAST_CASE_COUNT                 0.802320\n",
       "HIGH_SEVERITY_COUNT             0.802320\n",
       "PAST_ESCALATION_COUNT           0.802320\n",
       "OPTY_AMT                        0.411390\n",
       "dtype: float64"
      ]
     },
     "execution_count": 6,
     "metadata": {},
     "output_type": "execute_result"
    }
   ],
   "source": [
    "df.isnull().sum()/df.shape[0]"
   ]
  },
  {
   "cell_type": "code",
   "execution_count": 17,
   "metadata": {
    "collapsed": false
   },
   "outputs": [
    {
     "data": {
      "text/plain": [
       "263990"
      ]
     },
     "execution_count": 17,
     "metadata": {},
     "output_type": "execute_result"
    }
   ],
   "source": [
    "df[['INSTANCE_ID', 'CONTRACT_ID','ACCOUNT_NAME','INDUSTRY']][df.INDUSTRY.isnull()].shape[0]"
   ]
  },
  {
   "cell_type": "code",
   "execution_count": 18,
   "metadata": {
    "collapsed": false
   },
   "outputs": [
    {
     "data": {
      "text/plain": [
       "601628"
      ]
     },
     "execution_count": 18,
     "metadata": {},
     "output_type": "execute_result"
    }
   ],
   "source": [
    "df.shape[0]"
   ]
  },
  {
   "cell_type": "code",
   "execution_count": 19,
   "metadata": {
    "collapsed": false
   },
   "outputs": [
    {
     "data": {
      "text/plain": [
       "0.43879274235906573"
      ]
     },
     "execution_count": 19,
     "metadata": {},
     "output_type": "execute_result"
    }
   ],
   "source": [
    "263990/601628"
   ]
  },
  {
   "cell_type": "markdown",
   "metadata": {},
   "source": [
    "### Drop Columns with too many missing values or not needed"
   ]
  },
  {
   "cell_type": "code",
   "execution_count": 20,
   "metadata": {
    "collapsed": false
   },
   "outputs": [],
   "source": [
    "# Too many missing values to fill\n",
    "df.drop(['KEY_CUST_FLAG', 'INDUSTRY'], axis=1, inplace=True)\n",
    "\n",
    "# Drop Indentifier Columns\n",
    "df.drop(['ERP_ID', 'PARTY_SITE_NUMBER', 'X_CDH_ID', 'PARTY_SITE_ID','PARTY_SITE_ID_VALIDATION', \n",
    "         'INSTALL_SITE_ID', 'SFDC_ID', 'PRIMARYSIC', 'INVENTORY_ITEM_ID', 'INVENTORY_ITEM_ID_VALIDATION'], \n",
    "        axis=1, inplace=True)\n",
    "\n",
    "# Drop Unnecessary Columns: These are dropped for now since the expiration date has passed.\n",
    "df.drop(['CONTRACT_LINE_END_DATE','CONTRACT_LINE_STATUS_CODE', 'NXT_CONTRACT_LN_END_DATE', 'NXT_CONTRACT_LN_STATUS_CODE'], \n",
    "        axis=1, inplace=True)"
   ]
  },
  {
   "cell_type": "markdown",
   "metadata": {},
   "source": [
    "### Fill in Missing Values"
   ]
  },
  {
   "cell_type": "code",
   "execution_count": 21,
   "metadata": {
    "collapsed": true
   },
   "outputs": [],
   "source": [
    "# Fill numerical columns nan's with zeros\n",
    "df.PAST_CASE_COUNT.fillna(value=0, inplace=True)  # 80% missing values\n",
    "df.PAST_ESCALATION_COUNT.fillna(value=0, inplace=True)  # 80% missing values\n",
    "df.HIGH_SEVERITY_COUNT.fillna(value=0, inplace=True)  # 80% missing values\n",
    "df.OPTY_AMT.fillna(value=0, inplace=True)  # 41% missing values\n",
    "\n",
    "# Fill in with 'OTHER'\n",
    "df.SUB_REGION.fillna('OTHER', inplace=True)\n",
    "df.BUYING_PROGRAM.fillna('OTHER', inplace=True)\n",
    "\n",
    "# Fill in with 'NOT AVAILABLE'\n",
    "df.ACCOUNT_NAME.fillna('NOT AVAILABLE', inplace=True)\n",
    "df.SIC_CODE.fillna('NOT AVAILABLE', inplace=True)\n",
    "\n",
    "# Remove rows with * in ACCOUNT_NAME\n",
    "df = df[~df.ACCOUNT_NAME.str.startswith(\"*\")]"
   ]
  },
  {
   "cell_type": "markdown",
   "metadata": {},
   "source": [
    "### Drop all other Rows that cannot be filled, are still missing values"
   ]
  },
  {
   "cell_type": "code",
   "execution_count": 22,
   "metadata": {
    "collapsed": false
   },
   "outputs": [
    {
     "name": "stdout",
     "output_type": "stream",
     "text": [
      "Number of rows before dropping rows of missing values:  600060\n",
      "Number of rows AFTER dropping rows of missing values:  588367\n"
     ]
    }
   ],
   "source": [
    "# Drop all rows with Missing Values\n",
    "print(\"Number of rows before dropping rows of missing values: \", df.shape[0])\n",
    "df_no_missing = df.dropna()\n",
    "print(\"Number of rows AFTER dropping rows of missing values: \", df_no_missing.shape[0])"
   ]
  },
  {
   "cell_type": "markdown",
   "metadata": {},
   "source": [
    "### Creating Dictionary for Label Encoder()"
   ]
  },
  {
   "cell_type": "code",
   "execution_count": 23,
   "metadata": {
    "collapsed": false
   },
   "outputs": [
    {
     "name": "stderr",
     "output_type": "stream",
     "text": [
      "C:\\Users\\katherine.aquino\\AppData\\Local\\Continuum\\Anaconda3\\lib\\site-packages\\ipykernel\\__main__.py:4: SettingWithCopyWarning: \n",
      "A value is trying to be set on a copy of a slice from a DataFrame.\n",
      "Try using .loc[row_indexer,col_indexer] = value instead\n",
      "\n",
      "See the caveats in the documentation: http://pandas.pydata.org/pandas-docs/stable/indexing.html#indexing-view-versus-copy\n",
      "C:\\Users\\katherine.aquino\\AppData\\Local\\Continuum\\Anaconda3\\lib\\site-packages\\ipykernel\\__main__.py:5: SettingWithCopyWarning: \n",
      "A value is trying to be set on a copy of a slice from a DataFrame.\n",
      "Try using .loc[row_indexer,col_indexer] = value instead\n",
      "\n",
      "See the caveats in the documentation: http://pandas.pydata.org/pandas-docs/stable/indexing.html#indexing-view-versus-copy\n"
     ]
    }
   ],
   "source": [
    "def remove_year(row):\n",
    "    return row[5:]\n",
    "\n",
    "df_no_missing['START_QTR'] = df_no_missing.START_DATE.apply(remove_year)\n",
    "df_no_missing['EXPIRATION_QTR'] = df_no_missing.EXPIRATION_DATE.apply(remove_year)"
   ]
  },
  {
   "cell_type": "code",
   "execution_count": 30,
   "metadata": {
    "collapsed": false
   },
   "outputs": [
    {
     "name": "stdout",
     "output_type": "stream",
     "text": [
      "Process took: 0.0 hours, 0.0 minutes, 0.18719983100891113 seconds\n",
      "Number of unique SIC_CODE 1129: \n",
      "Process took: 0.0 hours, 0.0 minutes, 0.842400074005127 seconds\n",
      "Number of unique ACCOUNT_NAME 11687: \n",
      "Process took: 0.0 hours, 0.0 minutes, 0.07220005989074707 seconds\n",
      "Number of unique SALES_CHANNEL_CODE 10: \n",
      "Process took: 0.0 hours, 0.0 minutes, 0.04780006408691406 seconds\n",
      "Number of unique PRODUCT 16: \n",
      "Process took: 0.0 hours, 0.0 minutes, 0.04680013656616211 seconds\n",
      "Number of unique BUYING_PROGRAM 4: \n",
      "Process took: 0.0 hours, 0.0 minutes, 0.04680013656616211 seconds\n",
      "Number of unique SUB_REGION 12: \n"
     ]
    }
   ],
   "source": [
    "unique_categories = {}\n",
    "categorical_columns = ['SIC_CODE','ACCOUNT_NAME', 'SALES_CHANNEL_CODE','PRODUCT', 'BUYING_PROGRAM', 'SUB_REGION']\n",
    "for category in categorical_columns:\n",
    "    querystring = \"SELECT DISTINCT(\" + category + \") FROM CHURN_V1 ORDER BY \"+ category\n",
    "    curs.execute(querystring)\n",
    "    start = time.time()\n",
    "    res = curs.fetchall()\n",
    "    end = time.time()\n",
    "    print(timer(start, end))\n",
    "    df_temp = pd.DataFrame(res)\n",
    "    print(\"Number of unique {0} {1}: \".format(category, df_temp.shape[0]))\n",
    "    unique_categories[category] = df_temp.loc[:, 0].values"
   ]
  },
  {
   "cell_type": "code",
   "execution_count": 31,
   "metadata": {
    "collapsed": false
   },
   "outputs": [
    {
     "data": {
      "text/plain": [
       "{'ACCOUNT_NAME': array(['\\tHEWLETT PACKARD ENTERPRISE', '\"OEM ONLY\"',\n",
       "        '*** DO NOT USE*** EXPLIX TECHNOLOGIES TA WORKGROUP', ..., '?????',\n",
       "        '?????????', None], dtype=object),\n",
       " 'BUYING_PROGRAM': array(['ACD', 'CORPORATE', 'GOV', 'LOYALTY'], dtype=object),\n",
       " 'PRODUCT': array(['Access_L3', 'Availability_L3', 'Backup Exec Appliance_L3',\n",
       "        'Backup Exec Products_L3', 'Backup Exec System Recovery_L3',\n",
       "        'Data Insight_L3', 'Enterprise Vault Cloud_L3',\n",
       "        'Enterprise Vault_L3', 'InfoMap_L3', 'NetBackup Appliance_L3',\n",
       "        'NetBackup Products_L3', 'Storage_L3', 'VRP_L3',\n",
       "        'Veritas Risk Advisor_L3', 'eDiscovery Appliance_L3',\n",
       "        'eDiscovery_L3'], dtype=object),\n",
       " 'SALES_CHANNEL_CODE': array(['DISTRIBUTOR', 'END USER', 'ENTERPRISE SERVICE PROV (EXSP)',\n",
       "        'INTERNAL', 'MANAGEDSERVICEPROVIDER (MSP)',\n",
       "        'ORIGINALEQUIPMENTMANUF(OEM)', 'RESELLER', 'SERVICE PROVIDER',\n",
       "        'TECHNICALSUPPORTPARTNER (TSPP)', None], dtype=object),\n",
       " 'SIC_CODE': array(['0111', '0112', '0115', ..., 'S', '__NOT_APPLICABLE__', None], dtype=object),\n",
       " 'SUB_REGION': array(['ASIA_SOUTH_REGION', 'EMERGING', 'GREATER_CHINA_REGION',\n",
       "        'INDIA_REGION', 'JAPAN_REGION', 'KOREA_REGION', 'LAMC', 'MIDIS',\n",
       "        'NORTH', 'NORTH AMERICA', 'PACIFIC_REGION', 'WEST'], dtype=object)}"
      ]
     },
     "execution_count": 31,
     "metadata": {},
     "output_type": "execute_result"
    }
   ],
   "source": [
    "unique_categories"
   ]
  },
  {
   "cell_type": "markdown",
   "metadata": {},
   "source": [
    "### Build Encoding Dictionary for Transformations"
   ]
  },
  {
   "cell_type": "code",
   "execution_count": 15,
   "metadata": {
    "collapsed": false
   },
   "outputs": [],
   "source": [
    "# Creating Categorical Dictionary for Tranformations\n",
    "# Get all unique values of each categorical column\n",
    "df_sc = pd.DataFrame({'SIC_CODE': unique_categories['SIC_CODE']})\n",
    "df_an = pd.DataFrame({'ACCOUNT_NAME': unique_categories['ACCOUNT_NAME']})\n",
    "df_scc = pd.DataFrame({'SALES_CHANNEL_CODE': unique_categories['SALES_CHANNEL_CODE']})\n",
    "df_p =  pd.DataFrame({'PRODUCT': unique_categories['PRODUCT']})\n",
    "df_bp = pd.DataFrame({'BUYING_PROGRAM': unique_categories['BUYING_PROGRAM']})\n",
    "df_sr = pd.DataFrame({'SUB_REGION': unique_categories['SUB_REGION']})\n",
    "df_start = pd.DataFrame({'START_QTR': sorted(df_no_missing.START_QTR.unique())})\n",
    "df_end = pd.DataFrame({'EXPIRATION_QTR': sorted(df_no_missing.EXPIRATION_QTR.unique())})\n",
    "                      \n",
    "# Concatenate all unique values of each category\n",
    "df_all_category = pd.concat([df_sc, df_an, df_scc, df_p, df_bp, df_sr, df_start, df_end])\n",
    "\n",
    "# Fill in null values (Randomly chose a fill in value that exists in distinct list)\n",
    "df_all_category.SIC_CODE.fillna('NOT AVAILABLE', inplace=True)                 \n",
    "df_all_category.ACCOUNT_NAME.fillna('NOT AVAILABLE', inplace=True)\n",
    "df_all_category.SALES_CHANNEL_CODE.fillna('NOT AVAILABLE', inplace=True)               \n",
    "df_all_category.BUYING_PROGRAM.fillna('OTHER', inplace=True)\n",
    "df_all_category.PRODUCT.fillna('OTHER', inplace=True)\n",
    "df_all_category.SUB_REGION.fillna('NOT AVAILABLE', inplace=True)\n",
    "df_all_category.START_QTR.fillna('OTHER', inplace=True)\n",
    "df_all_category.EXPIRATION_QTR.fillna('OTHER', inplace=True)  "
   ]
  },
  {
   "cell_type": "code",
   "execution_count": 16,
   "metadata": {
    "collapsed": true
   },
   "outputs": [],
   "source": [
    "# IMPORTANT: Initiate the dictionary that holds the encoding functions\n",
    "d_encoder = defaultdict(LabelEncoder)\n",
    "\n",
    "# Create subset of dataframe that contains the categorical columns\n",
    "df_fit_transform = df_all_category.copy()\n",
    "\n",
    "# Encoding the variable\n",
    "_ = df_fit_transform.apply(lambda x: d_encoder[x.name].fit_transform(x))"
   ]
  },
  {
   "cell_type": "code",
   "execution_count": 17,
   "metadata": {
    "collapsed": false
   },
   "outputs": [
    {
     "data": {
      "text/plain": [
       "defaultdict(sklearn.preprocessing.label.LabelEncoder,\n",
       "            {'ACCOUNT_NAME': LabelEncoder(),\n",
       "             'BUYING_PROGRAM': LabelEncoder(),\n",
       "             'EXPIRATION_QTR': LabelEncoder(),\n",
       "             'PRODUCT': LabelEncoder(),\n",
       "             'SALES_CHANNEL_CODE': LabelEncoder(),\n",
       "             'SIC_CODE': LabelEncoder(),\n",
       "             'START_QTR': LabelEncoder(),\n",
       "             'SUB_REGION': LabelEncoder()})"
      ]
     },
     "execution_count": 17,
     "metadata": {},
     "output_type": "execute_result"
    }
   ],
   "source": [
    "d_encoder"
   ]
  },
  {
   "cell_type": "markdown",
   "metadata": {},
   "source": [
    "### Change 'OPTY_STATUS' to True/False values"
   ]
  },
  {
   "cell_type": "code",
   "execution_count": 18,
   "metadata": {
    "collapsed": false
   },
   "outputs": [
    {
     "name": "stderr",
     "output_type": "stream",
     "text": [
      "C:\\Users\\katherine.aquino\\AppData\\Local\\Continuum\\Anaconda3\\lib\\site-packages\\ipykernel\\__main__.py:7: SettingWithCopyWarning: \n",
      "A value is trying to be set on a copy of a slice from a DataFrame.\n",
      "Try using .loc[row_indexer,col_indexer] = value instead\n",
      "\n",
      "See the caveats in the documentation: http://pandas.pydata.org/pandas-docs/stable/indexing.html#indexing-view-versus-copy\n"
     ]
    }
   ],
   "source": [
    "def change_label(row):\n",
    "    if row == 'RENEWED':\n",
    "        return 0.0\n",
    "    return 1.0\n",
    "\n",
    "# Transforming, Encoding 'Opty_status'\n",
    "df_no_missing['OPTY_STATUS_ENC'] = df_no_missing.OPTY_STATUS.apply(change_label)"
   ]
  },
  {
   "cell_type": "code",
   "execution_count": 19,
   "metadata": {
    "collapsed": false
   },
   "outputs": [
    {
     "data": {
      "text/html": [
       "<div>\n",
       "<table border=\"1\" class=\"dataframe\">\n",
       "  <thead>\n",
       "    <tr style=\"text-align: right;\">\n",
       "      <th></th>\n",
       "      <th>INSTANCE_ID</th>\n",
       "      <th>CONTRACT_ID</th>\n",
       "      <th>OPTY_STATUS</th>\n",
       "      <th>ITEM_QUANTITY</th>\n",
       "      <th>PRICE_NEGOTIATED</th>\n",
       "      <th>SIC_CODE</th>\n",
       "      <th>ACCOUNT_NAME</th>\n",
       "      <th>SALES_CHANNEL_CODE</th>\n",
       "      <th>INSTANCE_COUNT</th>\n",
       "      <th>START_DATE</th>\n",
       "      <th>...</th>\n",
       "      <th>INSTANCE_AGE</th>\n",
       "      <th>LOST_CONTRACTS</th>\n",
       "      <th>TOTAL_INSTANCES_OWNED</th>\n",
       "      <th>PAST_CASE_COUNT</th>\n",
       "      <th>HIGH_SEVERITY_COUNT</th>\n",
       "      <th>PAST_ESCALATION_COUNT</th>\n",
       "      <th>OPTY_AMT</th>\n",
       "      <th>START_QTR</th>\n",
       "      <th>EXPIRATION_QTR</th>\n",
       "      <th>OPTY_STATUS_ENC</th>\n",
       "    </tr>\n",
       "  </thead>\n",
       "  <tbody>\n",
       "    <tr>\n",
       "      <th>1</th>\n",
       "      <td>310804.0</td>\n",
       "      <td>250337.0</td>\n",
       "      <td>RENEWED</td>\n",
       "      <td>1.0</td>\n",
       "      <td>438.83</td>\n",
       "      <td>NOT AVAILABLE</td>\n",
       "      <td>UBS AG</td>\n",
       "      <td>END USER</td>\n",
       "      <td>576.0</td>\n",
       "      <td>2015 Q 4</td>\n",
       "      <td>...</td>\n",
       "      <td>4.0</td>\n",
       "      <td>316.0</td>\n",
       "      <td>2233.0</td>\n",
       "      <td>0.0</td>\n",
       "      <td>0.0</td>\n",
       "      <td>0.0</td>\n",
       "      <td>0.000000</td>\n",
       "      <td>Q 4</td>\n",
       "      <td>Q 4</td>\n",
       "      <td>0.0</td>\n",
       "    </tr>\n",
       "    <tr>\n",
       "      <th>2</th>\n",
       "      <td>435539.0</td>\n",
       "      <td>353407.0</td>\n",
       "      <td>LOST</td>\n",
       "      <td>1.0</td>\n",
       "      <td>0.00</td>\n",
       "      <td>8621</td>\n",
       "      <td>PS ONLY</td>\n",
       "      <td>DISTRIBUTOR</td>\n",
       "      <td>3.0</td>\n",
       "      <td>2015 Q 4</td>\n",
       "      <td>...</td>\n",
       "      <td>4.0</td>\n",
       "      <td>41148.0</td>\n",
       "      <td>92951.0</td>\n",
       "      <td>0.0</td>\n",
       "      <td>0.0</td>\n",
       "      <td>0.0</td>\n",
       "      <td>3657.060000</td>\n",
       "      <td>Q 4</td>\n",
       "      <td>Q 4</td>\n",
       "      <td>1.0</td>\n",
       "    </tr>\n",
       "    <tr>\n",
       "      <th>3</th>\n",
       "      <td>418008.0</td>\n",
       "      <td>627397.0</td>\n",
       "      <td>RENEWED</td>\n",
       "      <td>12.0</td>\n",
       "      <td>679066.00</td>\n",
       "      <td>__NOT_APPLICABLE__</td>\n",
       "      <td>INSUNG DIGITAL CO. LTD</td>\n",
       "      <td>DISTRIBUTOR</td>\n",
       "      <td>10.0</td>\n",
       "      <td>2015 Q 4</td>\n",
       "      <td>...</td>\n",
       "      <td>4.0</td>\n",
       "      <td>2112.0</td>\n",
       "      <td>9717.0</td>\n",
       "      <td>0.0</td>\n",
       "      <td>0.0</td>\n",
       "      <td>0.0</td>\n",
       "      <td>96184.701141</td>\n",
       "      <td>Q 4</td>\n",
       "      <td>Q 4</td>\n",
       "      <td>0.0</td>\n",
       "    </tr>\n",
       "    <tr>\n",
       "      <th>4</th>\n",
       "      <td>1197941.0</td>\n",
       "      <td>759919.0</td>\n",
       "      <td>RENEWED</td>\n",
       "      <td>1.0</td>\n",
       "      <td>0.00</td>\n",
       "      <td>NOT AVAILABLE</td>\n",
       "      <td>INGRAM MICRO</td>\n",
       "      <td>DISTRIBUTOR</td>\n",
       "      <td>6.0</td>\n",
       "      <td>2016 Q 2</td>\n",
       "      <td>...</td>\n",
       "      <td>10.0</td>\n",
       "      <td>138081.0</td>\n",
       "      <td>319754.0</td>\n",
       "      <td>0.0</td>\n",
       "      <td>0.0</td>\n",
       "      <td>0.0</td>\n",
       "      <td>0.000000</td>\n",
       "      <td>Q 2</td>\n",
       "      <td>Q 4</td>\n",
       "      <td>0.0</td>\n",
       "    </tr>\n",
       "    <tr>\n",
       "      <th>5</th>\n",
       "      <td>346752.0</td>\n",
       "      <td>590093.0</td>\n",
       "      <td>LOST</td>\n",
       "      <td>1.0</td>\n",
       "      <td>0.00</td>\n",
       "      <td>6159</td>\n",
       "      <td>UBS</td>\n",
       "      <td>END USER</td>\n",
       "      <td>655.0</td>\n",
       "      <td>2015 Q 4</td>\n",
       "      <td>...</td>\n",
       "      <td>4.0</td>\n",
       "      <td>45.0</td>\n",
       "      <td>6570.0</td>\n",
       "      <td>0.0</td>\n",
       "      <td>0.0</td>\n",
       "      <td>0.0</td>\n",
       "      <td>0.000000</td>\n",
       "      <td>Q 4</td>\n",
       "      <td>Q 4</td>\n",
       "      <td>1.0</td>\n",
       "    </tr>\n",
       "  </tbody>\n",
       "</table>\n",
       "<p>5 rows × 25 columns</p>\n",
       "</div>"
      ],
      "text/plain": [
       "   INSTANCE_ID  CONTRACT_ID OPTY_STATUS  ITEM_QUANTITY  PRICE_NEGOTIATED  \\\n",
       "1     310804.0     250337.0     RENEWED            1.0            438.83   \n",
       "2     435539.0     353407.0        LOST            1.0              0.00   \n",
       "3     418008.0     627397.0     RENEWED           12.0         679066.00   \n",
       "4    1197941.0     759919.0     RENEWED            1.0              0.00   \n",
       "5     346752.0     590093.0        LOST            1.0              0.00   \n",
       "\n",
       "             SIC_CODE            ACCOUNT_NAME SALES_CHANNEL_CODE  \\\n",
       "1       NOT AVAILABLE                  UBS AG           END USER   \n",
       "2                8621                 PS ONLY        DISTRIBUTOR   \n",
       "3  __NOT_APPLICABLE__  INSUNG DIGITAL CO. LTD        DISTRIBUTOR   \n",
       "4       NOT AVAILABLE            INGRAM MICRO        DISTRIBUTOR   \n",
       "5                6159                     UBS           END USER   \n",
       "\n",
       "   INSTANCE_COUNT START_DATE       ...        INSTANCE_AGE  LOST_CONTRACTS  \\\n",
       "1           576.0   2015 Q 4       ...                 4.0           316.0   \n",
       "2             3.0   2015 Q 4       ...                 4.0         41148.0   \n",
       "3            10.0   2015 Q 4       ...                 4.0          2112.0   \n",
       "4             6.0   2016 Q 2       ...                10.0        138081.0   \n",
       "5           655.0   2015 Q 4       ...                 4.0            45.0   \n",
       "\n",
       "  TOTAL_INSTANCES_OWNED PAST_CASE_COUNT HIGH_SEVERITY_COUNT  \\\n",
       "1                2233.0             0.0                 0.0   \n",
       "2               92951.0             0.0                 0.0   \n",
       "3                9717.0             0.0                 0.0   \n",
       "4              319754.0             0.0                 0.0   \n",
       "5                6570.0             0.0                 0.0   \n",
       "\n",
       "   PAST_ESCALATION_COUNT      OPTY_AMT  START_QTR  EXPIRATION_QTR  \\\n",
       "1                    0.0      0.000000        Q 4             Q 4   \n",
       "2                    0.0   3657.060000        Q 4             Q 4   \n",
       "3                    0.0  96184.701141        Q 4             Q 4   \n",
       "4                    0.0      0.000000        Q 2             Q 4   \n",
       "5                    0.0      0.000000        Q 4             Q 4   \n",
       "\n",
       "   OPTY_STATUS_ENC  \n",
       "1              0.0  \n",
       "2              1.0  \n",
       "3              0.0  \n",
       "4              0.0  \n",
       "5              1.0  \n",
       "\n",
       "[5 rows x 25 columns]"
      ]
     },
     "execution_count": 19,
     "metadata": {},
     "output_type": "execute_result"
    }
   ],
   "source": [
    "df_no_missing.head()"
   ]
  },
  {
   "cell_type": "markdown",
   "metadata": {},
   "source": [
    "### Encode all Categorical Columns"
   ]
  },
  {
   "cell_type": "code",
   "execution_count": 20,
   "metadata": {
    "collapsed": false
   },
   "outputs": [
    {
     "name": "stderr",
     "output_type": "stream",
     "text": [
      "C:\\Users\\katherine.aquino\\AppData\\Local\\Continuum\\Anaconda3\\lib\\site-packages\\pandas\\core\\frame.py:2378: SettingWithCopyWarning: \n",
      "A value is trying to be set on a copy of a slice from a DataFrame.\n",
      "Try using .loc[row_indexer,col_indexer] = value instead\n",
      "\n",
      "See the caveats in the documentation: http://pandas.pydata.org/pandas-docs/stable/indexing.html#indexing-view-versus-copy\n",
      "  self[k1] = value[k2]\n"
     ]
    }
   ],
   "source": [
    "categorical_cols = ['ACCOUNT_NAME', 'PRODUCT','BUYING_PROGRAM', 'SUB_REGION', \n",
    "                    'SALES_CHANNEL_CODE', 'SIC_CODE', 'START_QTR','EXPIRATION_QTR']\n",
    "categorical_cols_encoded = ['ACCOUNT_NAME_ENC', 'PRODUCT_ENC','BUYING_PROGRAM_ENC', 'SUB_REGION_ENC', \n",
    "                            'SALES_CHANNEL_CODE_ENC', 'SIC_CODE_ENC', 'START_QTR_ENC','EXPIRATION_QTR_ENC']\n",
    "numerical_cols = ['ITEM_QUANTITY', 'PRICE_NEGOTIATED', 'CONTRACT_LENGTH', \n",
    "                  'INSTANCE_AGE', 'LOST_CONTRACTS', 'TOTAL_INSTANCES_OWNED', \n",
    "                  'INSTANCE_COUNT', 'PAST_CASE_COUNT', 'HIGH_SEVERITY_COUNT',\n",
    "                  'PAST_ESCALATION_COUNT', 'OPTY_AMT']\n",
    "\n",
    "df_no_missing[categorical_cols_encoded]= df_no_missing[categorical_cols].apply(lambda x: d_encoder[x.name].transform(x))"
   ]
  },
  {
   "cell_type": "markdown",
   "metadata": {},
   "source": [
    "### Select Relevant Columns for Specific Pipelines"
   ]
  },
  {
   "cell_type": "code",
   "execution_count": 21,
   "metadata": {
    "collapsed": false
   },
   "outputs": [],
   "source": [
    "# Obtain categorical columns from dataframe\n",
    "get_categorical_cols = FunctionTransformer(lambda x: x[categorical_cols_encoded], validate=False)\n",
    "\n",
    "# Obtain numerical columns from dataframe\n",
    "get_numerical_cols = FunctionTransformer(lambda x: x[numerical_cols], validate=False)"
   ]
  },
  {
   "cell_type": "markdown",
   "metadata": {},
   "source": [
    "### Build Pipeline"
   ]
  },
  {
   "cell_type": "code",
   "execution_count": 22,
   "metadata": {
    "collapsed": false
   },
   "outputs": [
    {
     "name": "stderr",
     "output_type": "stream",
     "text": [
      "C:\\Users\\katherine.aquino\\AppData\\Local\\Continuum\\Anaconda3\\lib\\site-packages\\ipykernel\\__main__.py:2: SettingWithCopyWarning: \n",
      "A value is trying to be set on a copy of a slice from a DataFrame.\n",
      "Try using .loc[row_indexer,col_indexer] = value instead\n",
      "\n",
      "See the caveats in the documentation: http://pandas.pydata.org/pandas-docs/stable/indexing.html#indexing-view-versus-copy\n",
      "  from ipykernel import kernelapp as app\n"
     ]
    },
    {
     "name": "stdout",
     "output_type": "stream",
     "text": [
      "Number of unique 'ID':  587115\n"
     ]
    }
   ],
   "source": [
    "# Index as Combination Contract_ID and Instance_ID?\n",
    "df_no_missing['ID'] = df_no_missing['CONTRACT_ID'].astype(str) + \"_\" + df_no_missing['INSTANCE_ID'].astype(str)\n",
    "print(\"Number of unique 'ID': \", len(df_no_missing.ID.unique()))\n",
    "\n",
    "# Set Index to 'ID'\n",
    "df_no_missing.set_index('ID')\n",
    "\n",
    "# Split ALL data\n",
    "df_no_missing_idx = np.arange(df_no_missing.shape[0])\n",
    "X_train, X_test, y_train, y_test, train_idx, test_idx = train_test_split(df_no_missing[categorical_cols_encoded + numerical_cols], \n",
    "                                                                         df_no_missing['OPTY_STATUS_ENC'],\n",
    "                                                                         df_no_missing_idx,\n",
    "                                                                         test_size=0.33,\n",
    "                                                                         random_state=45)\n",
    "\n",
    "# Create FeatureUnion with nested pipeline\n",
    "process_and_join_features = FeatureUnion(\n",
    "                                transformer_list =[('categorical_features', Pipeline([('selector', get_categorical_cols)])), \n",
    "                                                   ('numeric_features', Pipeline([('selector', get_numerical_cols),\n",
    "                                                                                  ('scaler', StandardScaler())]))\n",
    "                                                  ]\n",
    "                                        )"
   ]
  },
  {
   "cell_type": "code",
   "execution_count": 23,
   "metadata": {
    "collapsed": false
   },
   "outputs": [
    {
     "name": "stdout",
     "output_type": "stream",
     "text": [
      "Individual CV  Scores (Accuracy): [ 0.86150783  0.86003475  0.85794193  0.85806877  0.8594622 ]\n",
      "Average Score: 85.94%\n"
     ]
    }
   ],
   "source": [
    "# Instantiate nested pipeline: pl\n",
    "pl = Pipeline([('union', process_and_join_features),\n",
    "               ('clf', RF())\n",
    "              ])\n",
    "\n",
    "pl.fit(X_train, y_train)\n",
    "y_pred = [1.0 if val >= 0.5 else 0.0 for val in pl.predict_proba(X_test)[:, 1]]\n",
    "\n",
    "# KFold/StratifiedKFold cross validation with 5 folds (the default)\n",
    "# applying the classifier pipeline to the feature and target data\n",
    "scores = cross_val_score(pl, X_train, y_train, cv=5)\n",
    "print(\"Individual CV  Scores (Accuracy):\", scores)\n",
    "print(\"Average Score: {:0.2f}%\".format((scores.mean()*100)))"
   ]
  },
  {
   "cell_type": "code",
   "execution_count": 24,
   "metadata": {
    "collapsed": true
   },
   "outputs": [],
   "source": [
    "def show_scores(y_test, y_pred):\n",
    "    print('Prediction Accuracy for test set: {:.2%}'.format(accuracy_score(y_test, y_pred)))\n",
    "    print('Prediction Precision for test set: {:.2%}'.format(precision_score(y_test, y_pred)))\n",
    "    print('Prediction Recall for test set: {:.2%}'.format(recall_score(y_test, y_pred)))\n",
    "    print('Prediction F1-score for test set: {:.2%}'.format(f1_score(y_test, y_pred)))"
   ]
  },
  {
   "cell_type": "code",
   "execution_count": 25,
   "metadata": {
    "collapsed": false
   },
   "outputs": [
    {
     "name": "stdout",
     "output_type": "stream",
     "text": [
      "Random Forest: \n",
      "Prediction Accuracy for test set: 86.95%\n",
      "Prediction Precision for test set: 85.23%\n",
      "Prediction Recall for test set: 88.29%\n",
      "Prediction F1-score for test set: 86.73%\n"
     ]
    }
   ],
   "source": [
    "print(\"Random Forest: \")\n",
    "show_scores(y_test, y_pred)"
   ]
  },
  {
   "cell_type": "markdown",
   "metadata": {},
   "source": [
    "### GridSearch with Pipeline"
   ]
  },
  {
   "cell_type": "code",
   "execution_count": 110,
   "metadata": {
    "collapsed": false
   },
   "outputs": [
    {
     "ename": "KeyboardInterrupt",
     "evalue": "",
     "output_type": "error",
     "traceback": [
      "\u001b[1;31m---------------------------------------------------------------------------\u001b[0m",
      "\u001b[1;31mKeyboardInterrupt\u001b[0m                         Traceback (most recent call last)",
      "\u001b[1;32m<ipython-input-110-ae1fc17499c7>\u001b[0m in \u001b[0;36m<module>\u001b[1;34m()\u001b[0m\n\u001b[0;32m      9\u001b[0m \u001b[0mstart\u001b[0m \u001b[1;33m=\u001b[0m \u001b[0mtime\u001b[0m\u001b[1;33m.\u001b[0m\u001b[0mtime\u001b[0m\u001b[1;33m(\u001b[0m\u001b[1;33m)\u001b[0m\u001b[1;33m\u001b[0m\u001b[0m\n\u001b[0;32m     10\u001b[0m \u001b[0mCV_rfc\u001b[0m \u001b[1;33m=\u001b[0m \u001b[0mGridSearchCV\u001b[0m\u001b[1;33m(\u001b[0m\u001b[0mestimator\u001b[0m\u001b[1;33m=\u001b[0m\u001b[0mrfc\u001b[0m\u001b[1;33m,\u001b[0m \u001b[0mparam_grid\u001b[0m\u001b[1;33m=\u001b[0m\u001b[0mparam_grid\u001b[0m\u001b[1;33m,\u001b[0m \u001b[0mcv\u001b[0m\u001b[1;33m=\u001b[0m \u001b[1;36m5\u001b[0m\u001b[1;33m)\u001b[0m\u001b[1;33m\u001b[0m\u001b[0m\n\u001b[1;32m---> 11\u001b[1;33m \u001b[0mCV_rfc\u001b[0m\u001b[1;33m.\u001b[0m\u001b[0mfit\u001b[0m\u001b[1;33m(\u001b[0m\u001b[0mX_train\u001b[0m\u001b[1;33m,\u001b[0m \u001b[0my_train\u001b[0m\u001b[1;33m)\u001b[0m\u001b[1;33m\u001b[0m\u001b[0m\n\u001b[0m\u001b[0;32m     12\u001b[0m \u001b[0mend\u001b[0m \u001b[1;33m=\u001b[0m \u001b[0mtime\u001b[0m\u001b[1;33m.\u001b[0m\u001b[0mtime\u001b[0m\u001b[1;33m(\u001b[0m\u001b[1;33m)\u001b[0m\u001b[1;33m\u001b[0m\u001b[0m\n\u001b[0;32m     13\u001b[0m \u001b[0mprint\u001b[0m\u001b[1;33m(\u001b[0m\u001b[0mtimer\u001b[0m\u001b[1;33m(\u001b[0m\u001b[0mstart\u001b[0m\u001b[1;33m,\u001b[0m \u001b[0mend\u001b[0m\u001b[1;33m)\u001b[0m\u001b[1;33m)\u001b[0m\u001b[1;33m\u001b[0m\u001b[0m\n",
      "\u001b[1;32mC:\\Users\\katherine.aquino\\AppData\\Local\\Continuum\\Anaconda3\\lib\\site-packages\\sklearn\\grid_search.py\u001b[0m in \u001b[0;36mfit\u001b[1;34m(self, X, y)\u001b[0m\n\u001b[0;32m    802\u001b[0m \u001b[1;33m\u001b[0m\u001b[0m\n\u001b[0;32m    803\u001b[0m         \"\"\"\n\u001b[1;32m--> 804\u001b[1;33m         \u001b[1;32mreturn\u001b[0m \u001b[0mself\u001b[0m\u001b[1;33m.\u001b[0m\u001b[0m_fit\u001b[0m\u001b[1;33m(\u001b[0m\u001b[0mX\u001b[0m\u001b[1;33m,\u001b[0m \u001b[0my\u001b[0m\u001b[1;33m,\u001b[0m \u001b[0mParameterGrid\u001b[0m\u001b[1;33m(\u001b[0m\u001b[0mself\u001b[0m\u001b[1;33m.\u001b[0m\u001b[0mparam_grid\u001b[0m\u001b[1;33m)\u001b[0m\u001b[1;33m)\u001b[0m\u001b[1;33m\u001b[0m\u001b[0m\n\u001b[0m\u001b[0;32m    805\u001b[0m \u001b[1;33m\u001b[0m\u001b[0m\n\u001b[0;32m    806\u001b[0m \u001b[1;33m\u001b[0m\u001b[0m\n",
      "\u001b[1;32mC:\\Users\\katherine.aquino\\AppData\\Local\\Continuum\\Anaconda3\\lib\\site-packages\\sklearn\\grid_search.py\u001b[0m in \u001b[0;36m_fit\u001b[1;34m(self, X, y, parameter_iterable)\u001b[0m\n\u001b[0;32m    551\u001b[0m                                     \u001b[0mself\u001b[0m\u001b[1;33m.\u001b[0m\u001b[0mfit_params\u001b[0m\u001b[1;33m,\u001b[0m \u001b[0mreturn_parameters\u001b[0m\u001b[1;33m=\u001b[0m\u001b[1;32mTrue\u001b[0m\u001b[1;33m,\u001b[0m\u001b[1;33m\u001b[0m\u001b[0m\n\u001b[0;32m    552\u001b[0m                                     error_score=self.error_score)\n\u001b[1;32m--> 553\u001b[1;33m                 \u001b[1;32mfor\u001b[0m \u001b[0mparameters\u001b[0m \u001b[1;32min\u001b[0m \u001b[0mparameter_iterable\u001b[0m\u001b[1;33m\u001b[0m\u001b[0m\n\u001b[0m\u001b[0;32m    554\u001b[0m                 for train, test in cv)\n\u001b[0;32m    555\u001b[0m \u001b[1;33m\u001b[0m\u001b[0m\n",
      "\u001b[1;32mC:\\Users\\katherine.aquino\\AppData\\Local\\Continuum\\Anaconda3\\lib\\site-packages\\sklearn\\externals\\joblib\\parallel.py\u001b[0m in \u001b[0;36m__call__\u001b[1;34m(self, iterable)\u001b[0m\n\u001b[0;32m    798\u001b[0m             \u001b[1;31m# was dispatched. In particular this covers the edge\u001b[0m\u001b[1;33m\u001b[0m\u001b[1;33m\u001b[0m\u001b[0m\n\u001b[0;32m    799\u001b[0m             \u001b[1;31m# case of Parallel used with an exhausted iterator.\u001b[0m\u001b[1;33m\u001b[0m\u001b[1;33m\u001b[0m\u001b[0m\n\u001b[1;32m--> 800\u001b[1;33m             \u001b[1;32mwhile\u001b[0m \u001b[0mself\u001b[0m\u001b[1;33m.\u001b[0m\u001b[0mdispatch_one_batch\u001b[0m\u001b[1;33m(\u001b[0m\u001b[0miterator\u001b[0m\u001b[1;33m)\u001b[0m\u001b[1;33m:\u001b[0m\u001b[1;33m\u001b[0m\u001b[0m\n\u001b[0m\u001b[0;32m    801\u001b[0m                 \u001b[0mself\u001b[0m\u001b[1;33m.\u001b[0m\u001b[0m_iterating\u001b[0m \u001b[1;33m=\u001b[0m \u001b[1;32mTrue\u001b[0m\u001b[1;33m\u001b[0m\u001b[0m\n\u001b[0;32m    802\u001b[0m             \u001b[1;32melse\u001b[0m\u001b[1;33m:\u001b[0m\u001b[1;33m\u001b[0m\u001b[0m\n",
      "\u001b[1;32mC:\\Users\\katherine.aquino\\AppData\\Local\\Continuum\\Anaconda3\\lib\\site-packages\\sklearn\\externals\\joblib\\parallel.py\u001b[0m in \u001b[0;36mdispatch_one_batch\u001b[1;34m(self, iterator)\u001b[0m\n\u001b[0;32m    656\u001b[0m                 \u001b[1;32mreturn\u001b[0m \u001b[1;32mFalse\u001b[0m\u001b[1;33m\u001b[0m\u001b[0m\n\u001b[0;32m    657\u001b[0m             \u001b[1;32melse\u001b[0m\u001b[1;33m:\u001b[0m\u001b[1;33m\u001b[0m\u001b[0m\n\u001b[1;32m--> 658\u001b[1;33m                 \u001b[0mself\u001b[0m\u001b[1;33m.\u001b[0m\u001b[0m_dispatch\u001b[0m\u001b[1;33m(\u001b[0m\u001b[0mtasks\u001b[0m\u001b[1;33m)\u001b[0m\u001b[1;33m\u001b[0m\u001b[0m\n\u001b[0m\u001b[0;32m    659\u001b[0m                 \u001b[1;32mreturn\u001b[0m \u001b[1;32mTrue\u001b[0m\u001b[1;33m\u001b[0m\u001b[0m\n\u001b[0;32m    660\u001b[0m \u001b[1;33m\u001b[0m\u001b[0m\n",
      "\u001b[1;32mC:\\Users\\katherine.aquino\\AppData\\Local\\Continuum\\Anaconda3\\lib\\site-packages\\sklearn\\externals\\joblib\\parallel.py\u001b[0m in \u001b[0;36m_dispatch\u001b[1;34m(self, batch)\u001b[0m\n\u001b[0;32m    564\u001b[0m \u001b[1;33m\u001b[0m\u001b[0m\n\u001b[0;32m    565\u001b[0m         \u001b[1;32mif\u001b[0m \u001b[0mself\u001b[0m\u001b[1;33m.\u001b[0m\u001b[0m_pool\u001b[0m \u001b[1;32mis\u001b[0m \u001b[1;32mNone\u001b[0m\u001b[1;33m:\u001b[0m\u001b[1;33m\u001b[0m\u001b[0m\n\u001b[1;32m--> 566\u001b[1;33m             \u001b[0mjob\u001b[0m \u001b[1;33m=\u001b[0m \u001b[0mImmediateComputeBatch\u001b[0m\u001b[1;33m(\u001b[0m\u001b[0mbatch\u001b[0m\u001b[1;33m)\u001b[0m\u001b[1;33m\u001b[0m\u001b[0m\n\u001b[0m\u001b[0;32m    567\u001b[0m             \u001b[0mself\u001b[0m\u001b[1;33m.\u001b[0m\u001b[0m_jobs\u001b[0m\u001b[1;33m.\u001b[0m\u001b[0mappend\u001b[0m\u001b[1;33m(\u001b[0m\u001b[0mjob\u001b[0m\u001b[1;33m)\u001b[0m\u001b[1;33m\u001b[0m\u001b[0m\n\u001b[0;32m    568\u001b[0m             \u001b[0mself\u001b[0m\u001b[1;33m.\u001b[0m\u001b[0mn_dispatched_batches\u001b[0m \u001b[1;33m+=\u001b[0m \u001b[1;36m1\u001b[0m\u001b[1;33m\u001b[0m\u001b[0m\n",
      "\u001b[1;32mC:\\Users\\katherine.aquino\\AppData\\Local\\Continuum\\Anaconda3\\lib\\site-packages\\sklearn\\externals\\joblib\\parallel.py\u001b[0m in \u001b[0;36m__init__\u001b[1;34m(self, batch)\u001b[0m\n\u001b[0;32m    178\u001b[0m         \u001b[1;31m# Don't delay the application, to avoid keeping the input\u001b[0m\u001b[1;33m\u001b[0m\u001b[1;33m\u001b[0m\u001b[0m\n\u001b[0;32m    179\u001b[0m         \u001b[1;31m# arguments in memory\u001b[0m\u001b[1;33m\u001b[0m\u001b[1;33m\u001b[0m\u001b[0m\n\u001b[1;32m--> 180\u001b[1;33m         \u001b[0mself\u001b[0m\u001b[1;33m.\u001b[0m\u001b[0mresults\u001b[0m \u001b[1;33m=\u001b[0m \u001b[0mbatch\u001b[0m\u001b[1;33m(\u001b[0m\u001b[1;33m)\u001b[0m\u001b[1;33m\u001b[0m\u001b[0m\n\u001b[0m\u001b[0;32m    181\u001b[0m \u001b[1;33m\u001b[0m\u001b[0m\n\u001b[0;32m    182\u001b[0m     \u001b[1;32mdef\u001b[0m \u001b[0mget\u001b[0m\u001b[1;33m(\u001b[0m\u001b[0mself\u001b[0m\u001b[1;33m)\u001b[0m\u001b[1;33m:\u001b[0m\u001b[1;33m\u001b[0m\u001b[0m\n",
      "\u001b[1;32mC:\\Users\\katherine.aquino\\AppData\\Local\\Continuum\\Anaconda3\\lib\\site-packages\\sklearn\\externals\\joblib\\parallel.py\u001b[0m in \u001b[0;36m__call__\u001b[1;34m(self)\u001b[0m\n\u001b[0;32m     70\u001b[0m \u001b[1;33m\u001b[0m\u001b[0m\n\u001b[0;32m     71\u001b[0m     \u001b[1;32mdef\u001b[0m \u001b[0m__call__\u001b[0m\u001b[1;33m(\u001b[0m\u001b[0mself\u001b[0m\u001b[1;33m)\u001b[0m\u001b[1;33m:\u001b[0m\u001b[1;33m\u001b[0m\u001b[0m\n\u001b[1;32m---> 72\u001b[1;33m         \u001b[1;32mreturn\u001b[0m \u001b[1;33m[\u001b[0m\u001b[0mfunc\u001b[0m\u001b[1;33m(\u001b[0m\u001b[1;33m*\u001b[0m\u001b[0margs\u001b[0m\u001b[1;33m,\u001b[0m \u001b[1;33m**\u001b[0m\u001b[0mkwargs\u001b[0m\u001b[1;33m)\u001b[0m \u001b[1;32mfor\u001b[0m \u001b[0mfunc\u001b[0m\u001b[1;33m,\u001b[0m \u001b[0margs\u001b[0m\u001b[1;33m,\u001b[0m \u001b[0mkwargs\u001b[0m \u001b[1;32min\u001b[0m \u001b[0mself\u001b[0m\u001b[1;33m.\u001b[0m\u001b[0mitems\u001b[0m\u001b[1;33m]\u001b[0m\u001b[1;33m\u001b[0m\u001b[0m\n\u001b[0m\u001b[0;32m     73\u001b[0m \u001b[1;33m\u001b[0m\u001b[0m\n\u001b[0;32m     74\u001b[0m     \u001b[1;32mdef\u001b[0m \u001b[0m__len__\u001b[0m\u001b[1;33m(\u001b[0m\u001b[0mself\u001b[0m\u001b[1;33m)\u001b[0m\u001b[1;33m:\u001b[0m\u001b[1;33m\u001b[0m\u001b[0m\n",
      "\u001b[1;32mC:\\Users\\katherine.aquino\\AppData\\Local\\Continuum\\Anaconda3\\lib\\site-packages\\sklearn\\externals\\joblib\\parallel.py\u001b[0m in \u001b[0;36m<listcomp>\u001b[1;34m(.0)\u001b[0m\n\u001b[0;32m     70\u001b[0m \u001b[1;33m\u001b[0m\u001b[0m\n\u001b[0;32m     71\u001b[0m     \u001b[1;32mdef\u001b[0m \u001b[0m__call__\u001b[0m\u001b[1;33m(\u001b[0m\u001b[0mself\u001b[0m\u001b[1;33m)\u001b[0m\u001b[1;33m:\u001b[0m\u001b[1;33m\u001b[0m\u001b[0m\n\u001b[1;32m---> 72\u001b[1;33m         \u001b[1;32mreturn\u001b[0m \u001b[1;33m[\u001b[0m\u001b[0mfunc\u001b[0m\u001b[1;33m(\u001b[0m\u001b[1;33m*\u001b[0m\u001b[0margs\u001b[0m\u001b[1;33m,\u001b[0m \u001b[1;33m**\u001b[0m\u001b[0mkwargs\u001b[0m\u001b[1;33m)\u001b[0m \u001b[1;32mfor\u001b[0m \u001b[0mfunc\u001b[0m\u001b[1;33m,\u001b[0m \u001b[0margs\u001b[0m\u001b[1;33m,\u001b[0m \u001b[0mkwargs\u001b[0m \u001b[1;32min\u001b[0m \u001b[0mself\u001b[0m\u001b[1;33m.\u001b[0m\u001b[0mitems\u001b[0m\u001b[1;33m]\u001b[0m\u001b[1;33m\u001b[0m\u001b[0m\n\u001b[0m\u001b[0;32m     73\u001b[0m \u001b[1;33m\u001b[0m\u001b[0m\n\u001b[0;32m     74\u001b[0m     \u001b[1;32mdef\u001b[0m \u001b[0m__len__\u001b[0m\u001b[1;33m(\u001b[0m\u001b[0mself\u001b[0m\u001b[1;33m)\u001b[0m\u001b[1;33m:\u001b[0m\u001b[1;33m\u001b[0m\u001b[0m\n",
      "\u001b[1;32mC:\\Users\\katherine.aquino\\AppData\\Local\\Continuum\\Anaconda3\\lib\\site-packages\\sklearn\\cross_validation.py\u001b[0m in \u001b[0;36m_fit_and_score\u001b[1;34m(estimator, X, y, scorer, train, test, verbose, parameters, fit_params, return_train_score, return_parameters, error_score)\u001b[0m\n\u001b[0;32m   1529\u001b[0m             \u001b[0mestimator\u001b[0m\u001b[1;33m.\u001b[0m\u001b[0mfit\u001b[0m\u001b[1;33m(\u001b[0m\u001b[0mX_train\u001b[0m\u001b[1;33m,\u001b[0m \u001b[1;33m**\u001b[0m\u001b[0mfit_params\u001b[0m\u001b[1;33m)\u001b[0m\u001b[1;33m\u001b[0m\u001b[0m\n\u001b[0;32m   1530\u001b[0m         \u001b[1;32melse\u001b[0m\u001b[1;33m:\u001b[0m\u001b[1;33m\u001b[0m\u001b[0m\n\u001b[1;32m-> 1531\u001b[1;33m             \u001b[0mestimator\u001b[0m\u001b[1;33m.\u001b[0m\u001b[0mfit\u001b[0m\u001b[1;33m(\u001b[0m\u001b[0mX_train\u001b[0m\u001b[1;33m,\u001b[0m \u001b[0my_train\u001b[0m\u001b[1;33m,\u001b[0m \u001b[1;33m**\u001b[0m\u001b[0mfit_params\u001b[0m\u001b[1;33m)\u001b[0m\u001b[1;33m\u001b[0m\u001b[0m\n\u001b[0m\u001b[0;32m   1532\u001b[0m \u001b[1;33m\u001b[0m\u001b[0m\n\u001b[0;32m   1533\u001b[0m     \u001b[1;32mexcept\u001b[0m \u001b[0mException\u001b[0m \u001b[1;32mas\u001b[0m \u001b[0me\u001b[0m\u001b[1;33m:\u001b[0m\u001b[1;33m\u001b[0m\u001b[0m\n",
      "\u001b[1;32mC:\\Users\\katherine.aquino\\AppData\\Local\\Continuum\\Anaconda3\\lib\\site-packages\\sklearn\\ensemble\\forest.py\u001b[0m in \u001b[0;36mfit\u001b[1;34m(self, X, y, sample_weight)\u001b[0m\n\u001b[0;32m    288\u001b[0m                     \u001b[0mt\u001b[0m\u001b[1;33m,\u001b[0m \u001b[0mself\u001b[0m\u001b[1;33m,\u001b[0m \u001b[0mX\u001b[0m\u001b[1;33m,\u001b[0m \u001b[0my\u001b[0m\u001b[1;33m,\u001b[0m \u001b[0msample_weight\u001b[0m\u001b[1;33m,\u001b[0m \u001b[0mi\u001b[0m\u001b[1;33m,\u001b[0m \u001b[0mlen\u001b[0m\u001b[1;33m(\u001b[0m\u001b[0mtrees\u001b[0m\u001b[1;33m)\u001b[0m\u001b[1;33m,\u001b[0m\u001b[1;33m\u001b[0m\u001b[0m\n\u001b[0;32m    289\u001b[0m                     verbose=self.verbose, class_weight=self.class_weight)\n\u001b[1;32m--> 290\u001b[1;33m                 for i, t in enumerate(trees))\n\u001b[0m\u001b[0;32m    291\u001b[0m \u001b[1;33m\u001b[0m\u001b[0m\n\u001b[0;32m    292\u001b[0m             \u001b[1;31m# Collect newly grown trees\u001b[0m\u001b[1;33m\u001b[0m\u001b[1;33m\u001b[0m\u001b[0m\n",
      "\u001b[1;32mC:\\Users\\katherine.aquino\\AppData\\Local\\Continuum\\Anaconda3\\lib\\site-packages\\sklearn\\externals\\joblib\\parallel.py\u001b[0m in \u001b[0;36m__call__\u001b[1;34m(self, iterable)\u001b[0m\n\u001b[0;32m    808\u001b[0m                 \u001b[1;31m# consumption.\u001b[0m\u001b[1;33m\u001b[0m\u001b[1;33m\u001b[0m\u001b[0m\n\u001b[0;32m    809\u001b[0m                 \u001b[0mself\u001b[0m\u001b[1;33m.\u001b[0m\u001b[0m_iterating\u001b[0m \u001b[1;33m=\u001b[0m \u001b[1;32mFalse\u001b[0m\u001b[1;33m\u001b[0m\u001b[0m\n\u001b[1;32m--> 810\u001b[1;33m             \u001b[0mself\u001b[0m\u001b[1;33m.\u001b[0m\u001b[0mretrieve\u001b[0m\u001b[1;33m(\u001b[0m\u001b[1;33m)\u001b[0m\u001b[1;33m\u001b[0m\u001b[0m\n\u001b[0m\u001b[0;32m    811\u001b[0m             \u001b[1;31m# Make sure that we get a last message telling us we are done\u001b[0m\u001b[1;33m\u001b[0m\u001b[1;33m\u001b[0m\u001b[0m\n\u001b[0;32m    812\u001b[0m             \u001b[0melapsed_time\u001b[0m \u001b[1;33m=\u001b[0m \u001b[0mtime\u001b[0m\u001b[1;33m.\u001b[0m\u001b[0mtime\u001b[0m\u001b[1;33m(\u001b[0m\u001b[1;33m)\u001b[0m \u001b[1;33m-\u001b[0m \u001b[0mself\u001b[0m\u001b[1;33m.\u001b[0m\u001b[0m_start_time\u001b[0m\u001b[1;33m\u001b[0m\u001b[0m\n",
      "\u001b[1;32mC:\\Users\\katherine.aquino\\AppData\\Local\\Continuum\\Anaconda3\\lib\\site-packages\\sklearn\\externals\\joblib\\parallel.py\u001b[0m in \u001b[0;36mretrieve\u001b[1;34m(self)\u001b[0m\n\u001b[0;32m    725\u001b[0m                 \u001b[0mjob\u001b[0m \u001b[1;33m=\u001b[0m \u001b[0mself\u001b[0m\u001b[1;33m.\u001b[0m\u001b[0m_jobs\u001b[0m\u001b[1;33m.\u001b[0m\u001b[0mpop\u001b[0m\u001b[1;33m(\u001b[0m\u001b[1;36m0\u001b[0m\u001b[1;33m)\u001b[0m\u001b[1;33m\u001b[0m\u001b[0m\n\u001b[0;32m    726\u001b[0m             \u001b[1;32mtry\u001b[0m\u001b[1;33m:\u001b[0m\u001b[1;33m\u001b[0m\u001b[0m\n\u001b[1;32m--> 727\u001b[1;33m                 \u001b[0mself\u001b[0m\u001b[1;33m.\u001b[0m\u001b[0m_output\u001b[0m\u001b[1;33m.\u001b[0m\u001b[0mextend\u001b[0m\u001b[1;33m(\u001b[0m\u001b[0mjob\u001b[0m\u001b[1;33m.\u001b[0m\u001b[0mget\u001b[0m\u001b[1;33m(\u001b[0m\u001b[1;33m)\u001b[0m\u001b[1;33m)\u001b[0m\u001b[1;33m\u001b[0m\u001b[0m\n\u001b[0m\u001b[0;32m    728\u001b[0m             \u001b[1;32mexcept\u001b[0m \u001b[0mtuple\u001b[0m\u001b[1;33m(\u001b[0m\u001b[0mself\u001b[0m\u001b[1;33m.\u001b[0m\u001b[0mexceptions\u001b[0m\u001b[1;33m)\u001b[0m \u001b[1;32mas\u001b[0m \u001b[0mexception\u001b[0m\u001b[1;33m:\u001b[0m\u001b[1;33m\u001b[0m\u001b[0m\n\u001b[0;32m    729\u001b[0m                 \u001b[1;31m# Stop dispatching any new job in the async callback thread\u001b[0m\u001b[1;33m\u001b[0m\u001b[1;33m\u001b[0m\u001b[0m\n",
      "\u001b[1;32mC:\\Users\\katherine.aquino\\AppData\\Local\\Continuum\\Anaconda3\\lib\\multiprocessing\\pool.py\u001b[0m in \u001b[0;36mget\u001b[1;34m(self, timeout)\u001b[0m\n\u001b[0;32m    600\u001b[0m \u001b[1;33m\u001b[0m\u001b[0m\n\u001b[0;32m    601\u001b[0m     \u001b[1;32mdef\u001b[0m \u001b[0mget\u001b[0m\u001b[1;33m(\u001b[0m\u001b[0mself\u001b[0m\u001b[1;33m,\u001b[0m \u001b[0mtimeout\u001b[0m\u001b[1;33m=\u001b[0m\u001b[1;32mNone\u001b[0m\u001b[1;33m)\u001b[0m\u001b[1;33m:\u001b[0m\u001b[1;33m\u001b[0m\u001b[0m\n\u001b[1;32m--> 602\u001b[1;33m         \u001b[0mself\u001b[0m\u001b[1;33m.\u001b[0m\u001b[0mwait\u001b[0m\u001b[1;33m(\u001b[0m\u001b[0mtimeout\u001b[0m\u001b[1;33m)\u001b[0m\u001b[1;33m\u001b[0m\u001b[0m\n\u001b[0m\u001b[0;32m    603\u001b[0m         \u001b[1;32mif\u001b[0m \u001b[1;32mnot\u001b[0m \u001b[0mself\u001b[0m\u001b[1;33m.\u001b[0m\u001b[0mready\u001b[0m\u001b[1;33m(\u001b[0m\u001b[1;33m)\u001b[0m\u001b[1;33m:\u001b[0m\u001b[1;33m\u001b[0m\u001b[0m\n\u001b[0;32m    604\u001b[0m             \u001b[1;32mraise\u001b[0m \u001b[0mTimeoutError\u001b[0m\u001b[1;33m\u001b[0m\u001b[0m\n",
      "\u001b[1;32mC:\\Users\\katherine.aquino\\AppData\\Local\\Continuum\\Anaconda3\\lib\\multiprocessing\\pool.py\u001b[0m in \u001b[0;36mwait\u001b[1;34m(self, timeout)\u001b[0m\n\u001b[0;32m    597\u001b[0m \u001b[1;33m\u001b[0m\u001b[0m\n\u001b[0;32m    598\u001b[0m     \u001b[1;32mdef\u001b[0m \u001b[0mwait\u001b[0m\u001b[1;33m(\u001b[0m\u001b[0mself\u001b[0m\u001b[1;33m,\u001b[0m \u001b[0mtimeout\u001b[0m\u001b[1;33m=\u001b[0m\u001b[1;32mNone\u001b[0m\u001b[1;33m)\u001b[0m\u001b[1;33m:\u001b[0m\u001b[1;33m\u001b[0m\u001b[0m\n\u001b[1;32m--> 599\u001b[1;33m         \u001b[0mself\u001b[0m\u001b[1;33m.\u001b[0m\u001b[0m_event\u001b[0m\u001b[1;33m.\u001b[0m\u001b[0mwait\u001b[0m\u001b[1;33m(\u001b[0m\u001b[0mtimeout\u001b[0m\u001b[1;33m)\u001b[0m\u001b[1;33m\u001b[0m\u001b[0m\n\u001b[0m\u001b[0;32m    600\u001b[0m \u001b[1;33m\u001b[0m\u001b[0m\n\u001b[0;32m    601\u001b[0m     \u001b[1;32mdef\u001b[0m \u001b[0mget\u001b[0m\u001b[1;33m(\u001b[0m\u001b[0mself\u001b[0m\u001b[1;33m,\u001b[0m \u001b[0mtimeout\u001b[0m\u001b[1;33m=\u001b[0m\u001b[1;32mNone\u001b[0m\u001b[1;33m)\u001b[0m\u001b[1;33m:\u001b[0m\u001b[1;33m\u001b[0m\u001b[0m\n",
      "\u001b[1;32mC:\\Users\\katherine.aquino\\AppData\\Local\\Continuum\\Anaconda3\\lib\\threading.py\u001b[0m in \u001b[0;36mwait\u001b[1;34m(self, timeout)\u001b[0m\n\u001b[0;32m    547\u001b[0m             \u001b[0msignaled\u001b[0m \u001b[1;33m=\u001b[0m \u001b[0mself\u001b[0m\u001b[1;33m.\u001b[0m\u001b[0m_flag\u001b[0m\u001b[1;33m\u001b[0m\u001b[0m\n\u001b[0;32m    548\u001b[0m             \u001b[1;32mif\u001b[0m \u001b[1;32mnot\u001b[0m \u001b[0msignaled\u001b[0m\u001b[1;33m:\u001b[0m\u001b[1;33m\u001b[0m\u001b[0m\n\u001b[1;32m--> 549\u001b[1;33m                 \u001b[0msignaled\u001b[0m \u001b[1;33m=\u001b[0m \u001b[0mself\u001b[0m\u001b[1;33m.\u001b[0m\u001b[0m_cond\u001b[0m\u001b[1;33m.\u001b[0m\u001b[0mwait\u001b[0m\u001b[1;33m(\u001b[0m\u001b[0mtimeout\u001b[0m\u001b[1;33m)\u001b[0m\u001b[1;33m\u001b[0m\u001b[0m\n\u001b[0m\u001b[0;32m    550\u001b[0m             \u001b[1;32mreturn\u001b[0m \u001b[0msignaled\u001b[0m\u001b[1;33m\u001b[0m\u001b[0m\n\u001b[0;32m    551\u001b[0m \u001b[1;33m\u001b[0m\u001b[0m\n",
      "\u001b[1;32mC:\\Users\\katherine.aquino\\AppData\\Local\\Continuum\\Anaconda3\\lib\\threading.py\u001b[0m in \u001b[0;36mwait\u001b[1;34m(self, timeout)\u001b[0m\n\u001b[0;32m    291\u001b[0m         \u001b[1;32mtry\u001b[0m\u001b[1;33m:\u001b[0m    \u001b[1;31m# restore state no matter what (e.g., KeyboardInterrupt)\u001b[0m\u001b[1;33m\u001b[0m\u001b[0m\n\u001b[0;32m    292\u001b[0m             \u001b[1;32mif\u001b[0m \u001b[0mtimeout\u001b[0m \u001b[1;32mis\u001b[0m \u001b[1;32mNone\u001b[0m\u001b[1;33m:\u001b[0m\u001b[1;33m\u001b[0m\u001b[0m\n\u001b[1;32m--> 293\u001b[1;33m                 \u001b[0mwaiter\u001b[0m\u001b[1;33m.\u001b[0m\u001b[0macquire\u001b[0m\u001b[1;33m(\u001b[0m\u001b[1;33m)\u001b[0m\u001b[1;33m\u001b[0m\u001b[0m\n\u001b[0m\u001b[0;32m    294\u001b[0m                 \u001b[0mgotit\u001b[0m \u001b[1;33m=\u001b[0m \u001b[1;32mTrue\u001b[0m\u001b[1;33m\u001b[0m\u001b[0m\n\u001b[0;32m    295\u001b[0m             \u001b[1;32melse\u001b[0m\u001b[1;33m:\u001b[0m\u001b[1;33m\u001b[0m\u001b[0m\n",
      "\u001b[1;31mKeyboardInterrupt\u001b[0m: "
     ]
    }
   ],
   "source": [
    "rfc = RF(n_jobs=-1, max_features= 'auto', n_estimators=100, oob_score = True) \n",
    "\n",
    "param_grid = { \n",
    "    'n_estimators': [100, 200, 500, 1000],\n",
    "    'max_features': ['auto', 'sqrt', 'log2'],\n",
    "    'max_depth': [None, 2, 8, 12]\n",
    "}\n",
    "\n",
    "start = time.time()\n",
    "CV_rfc = GridSearchCV(estimator=rfc, param_grid=param_grid, cv= 5)\n",
    "CV_rfc.fit(X_train, y_train)\n",
    "end = time.time()\n",
    "print(timer(start, end))\n",
    "print(CV_rfc.best_params_)"
   ]
  },
  {
   "cell_type": "markdown",
   "metadata": {},
   "source": [
    "### Tuned Random Forest"
   ]
  },
  {
   "cell_type": "code",
   "execution_count": 26,
   "metadata": {
    "collapsed": false
   },
   "outputs": [],
   "source": [
    "# Instantiate nested pipeline: pl\n",
    "pl = Pipeline([('union', process_and_join_features),\n",
    "               ('clf', RF(max_depth=None, n_estimators=500, max_features='log2'))\n",
    "              ])\n",
    "\n",
    "# scores = cross_val_score(pl, X_train, y_train, cv=5)\n",
    "# print(\"Individual CV  Scores (Accuracy):\", scores)\n",
    "# print(\"Average Score: {:0.2f}%\".format((scores.mean()*100)))"
   ]
  },
  {
   "cell_type": "code",
   "execution_count": 27,
   "metadata": {
    "collapsed": false
   },
   "outputs": [
    {
     "name": "stdout",
     "output_type": "stream",
     "text": [
      "Process took: 0.0 hours, 7.0 minutes, 42.289578437805176 seconds\n"
     ]
    }
   ],
   "source": [
    "start = time.time()\n",
    "pl.fit(X_train, y_train)\n",
    "end = time.time()\n",
    "print(timer(start, end))"
   ]
  },
  {
   "cell_type": "markdown",
   "metadata": {},
   "source": [
    "### With Threshold of 0.5"
   ]
  },
  {
   "cell_type": "code",
   "execution_count": 28,
   "metadata": {
    "collapsed": false
   },
   "outputs": [
    {
     "name": "stdout",
     "output_type": "stream",
     "text": [
      "Process took: 0.0 hours, 2.0 minutes, 35.65931725502014 seconds\n"
     ]
    }
   ],
   "source": [
    "threshold = 0.5\n",
    "start = time.time()\n",
    "y_pred_05 = [1.0 if val >= threshold else 0.0 for val in pl.predict_proba(X_test)[:, 1]]\n",
    "end = time.time()\n",
    "print(timer(start, end))"
   ]
  },
  {
   "cell_type": "code",
   "execution_count": 29,
   "metadata": {
    "collapsed": false
   },
   "outputs": [
    {
     "name": "stdout",
     "output_type": "stream",
     "text": [
      "Random Forest, Tuned, Threshold 0.5\n",
      "Prediction Accuracy for test set: 88.53%\n",
      "Prediction Precision for test set: 88.22%\n",
      "Prediction Recall for test set: 88.02%\n",
      "Prediction F1-score for test set: 88.12%\n"
     ]
    }
   ],
   "source": [
    "print(\"Random Forest, Tuned, Threshold 0.5\")\n",
    "show_scores(y_test, y_pred_05)"
   ]
  },
  {
   "cell_type": "markdown",
   "metadata": {},
   "source": [
    "### With Threshold of 0.4"
   ]
  },
  {
   "cell_type": "code",
   "execution_count": 30,
   "metadata": {
    "collapsed": true
   },
   "outputs": [],
   "source": [
    "threshold = 0.4\n",
    "y_pred_04 = [1.0 if val >= threshold else 0.0 for val in pl.predict_proba(X_test)[:, 1]]"
   ]
  },
  {
   "cell_type": "code",
   "execution_count": 35,
   "metadata": {
    "collapsed": false
   },
   "outputs": [
    {
     "name": "stdout",
     "output_type": "stream",
     "text": [
      "Random Forest, Tuned, Threshold 0.4\n",
      "Prediction Accuracy for test set: 87.98%\n",
      "Prediction Precision for test set: 84.35%\n",
      "Prediction Recall for test set: 92.24%\n",
      "Prediction F1-score for test set: 88.12%\n"
     ]
    }
   ],
   "source": [
    "print(\"Random Forest, Tuned, Threshold 0.4\")\n",
    "show_scores(y_test, y_pred_04)"
   ]
  },
  {
   "cell_type": "markdown",
   "metadata": {},
   "source": [
    "### Checking for various thresholds"
   ]
  },
  {
   "cell_type": "code",
   "execution_count": 32,
   "metadata": {
    "collapsed": false
   },
   "outputs": [
    {
     "name": "stdout",
     "output_type": "stream",
     "text": [
      "Process took: 0.0 hours, 0.0 minutes, 41.554067611694336 seconds\n"
     ]
    },
    {
     "data": {
      "text/html": [
       "<div>\n",
       "<table border=\"1\" class=\"dataframe\">\n",
       "  <thead>\n",
       "    <tr style=\"text-align: right;\">\n",
       "      <th></th>\n",
       "      <th>Threshold</th>\n",
       "      <th>Accuracy</th>\n",
       "      <th>Precision</th>\n",
       "      <th>Recall</th>\n",
       "      <th>F1-Score</th>\n",
       "    </tr>\n",
       "  </thead>\n",
       "  <tbody>\n",
       "    <tr>\n",
       "      <th>0</th>\n",
       "      <td>0.00</td>\n",
       "      <td>0.483194</td>\n",
       "      <td>0.483194</td>\n",
       "      <td>1.000000</td>\n",
       "      <td>0.651559</td>\n",
       "    </tr>\n",
       "    <tr>\n",
       "      <th>1</th>\n",
       "      <td>0.05</td>\n",
       "      <td>0.695280</td>\n",
       "      <td>0.613889</td>\n",
       "      <td>0.995481</td>\n",
       "      <td>0.759446</td>\n",
       "    </tr>\n",
       "    <tr>\n",
       "      <th>2</th>\n",
       "      <td>0.10</td>\n",
       "      <td>0.753129</td>\n",
       "      <td>0.664038</td>\n",
       "      <td>0.989927</td>\n",
       "      <td>0.794877</td>\n",
       "    </tr>\n",
       "    <tr>\n",
       "      <th>3</th>\n",
       "      <td>0.15</td>\n",
       "      <td>0.794805</td>\n",
       "      <td>0.706965</td>\n",
       "      <td>0.982637</td>\n",
       "      <td>0.822312</td>\n",
       "    </tr>\n",
       "    <tr>\n",
       "      <th>4</th>\n",
       "      <td>0.20</td>\n",
       "      <td>0.823524</td>\n",
       "      <td>0.741522</td>\n",
       "      <td>0.974440</td>\n",
       "      <td>0.842173</td>\n",
       "    </tr>\n",
       "    <tr>\n",
       "      <th>5</th>\n",
       "      <td>0.25</td>\n",
       "      <td>0.844856</td>\n",
       "      <td>0.771646</td>\n",
       "      <td>0.964282</td>\n",
       "      <td>0.857276</td>\n",
       "    </tr>\n",
       "    <tr>\n",
       "      <th>6</th>\n",
       "      <td>0.30</td>\n",
       "      <td>0.860967</td>\n",
       "      <td>0.798624</td>\n",
       "      <td>0.952419</td>\n",
       "      <td>0.868767</td>\n",
       "    </tr>\n",
       "    <tr>\n",
       "      <th>7</th>\n",
       "      <td>0.35</td>\n",
       "      <td>0.872581</td>\n",
       "      <td>0.823241</td>\n",
       "      <td>0.937613</td>\n",
       "      <td>0.876713</td>\n",
       "    </tr>\n",
       "    <tr>\n",
       "      <th>8</th>\n",
       "      <td>0.40</td>\n",
       "      <td>0.879796</td>\n",
       "      <td>0.843482</td>\n",
       "      <td>0.922392</td>\n",
       "      <td>0.881174</td>\n",
       "    </tr>\n",
       "    <tr>\n",
       "      <th>9</th>\n",
       "      <td>0.45</td>\n",
       "      <td>0.883917</td>\n",
       "      <td>0.862983</td>\n",
       "      <td>0.903153</td>\n",
       "      <td>0.882611</td>\n",
       "    </tr>\n",
       "    <tr>\n",
       "      <th>10</th>\n",
       "      <td>0.50</td>\n",
       "      <td>0.885317</td>\n",
       "      <td>0.882213</td>\n",
       "      <td>0.880172</td>\n",
       "      <td>0.881191</td>\n",
       "    </tr>\n",
       "    <tr>\n",
       "      <th>11</th>\n",
       "      <td>0.55</td>\n",
       "      <td>0.882902</td>\n",
       "      <td>0.898773</td>\n",
       "      <td>0.853823</td>\n",
       "      <td>0.875722</td>\n",
       "    </tr>\n",
       "    <tr>\n",
       "      <th>12</th>\n",
       "      <td>0.60</td>\n",
       "      <td>0.877643</td>\n",
       "      <td>0.913130</td>\n",
       "      <td>0.825289</td>\n",
       "      <td>0.866990</td>\n",
       "    </tr>\n",
       "    <tr>\n",
       "      <th>13</th>\n",
       "      <td>0.65</td>\n",
       "      <td>0.869181</td>\n",
       "      <td>0.925189</td>\n",
       "      <td>0.793419</td>\n",
       "      <td>0.854252</td>\n",
       "    </tr>\n",
       "    <tr>\n",
       "      <th>14</th>\n",
       "      <td>0.70</td>\n",
       "      <td>0.856362</td>\n",
       "      <td>0.937944</td>\n",
       "      <td>0.752521</td>\n",
       "      <td>0.835063</td>\n",
       "    </tr>\n",
       "    <tr>\n",
       "      <th>15</th>\n",
       "      <td>0.75</td>\n",
       "      <td>0.840097</td>\n",
       "      <td>0.947540</td>\n",
       "      <td>0.708286</td>\n",
       "      <td>0.810628</td>\n",
       "    </tr>\n",
       "    <tr>\n",
       "      <th>16</th>\n",
       "      <td>0.80</td>\n",
       "      <td>0.818734</td>\n",
       "      <td>0.957685</td>\n",
       "      <td>0.653744</td>\n",
       "      <td>0.777051</td>\n",
       "    </tr>\n",
       "    <tr>\n",
       "      <th>17</th>\n",
       "      <td>0.85</td>\n",
       "      <td>0.790196</td>\n",
       "      <td>0.967551</td>\n",
       "      <td>0.585431</td>\n",
       "      <td>0.729480</td>\n",
       "    </tr>\n",
       "    <tr>\n",
       "      <th>18</th>\n",
       "      <td>0.90</td>\n",
       "      <td>0.753675</td>\n",
       "      <td>0.974574</td>\n",
       "      <td>0.503347</td>\n",
       "      <td>0.663836</td>\n",
       "    </tr>\n",
       "    <tr>\n",
       "      <th>19</th>\n",
       "      <td>0.95</td>\n",
       "      <td>0.698237</td>\n",
       "      <td>0.982972</td>\n",
       "      <td>0.382102</td>\n",
       "      <td>0.550293</td>\n",
       "    </tr>\n",
       "    <tr>\n",
       "      <th>20</th>\n",
       "      <td>1.00</td>\n",
       "      <td>0.586026</td>\n",
       "      <td>0.994918</td>\n",
       "      <td>0.143992</td>\n",
       "      <td>0.251574</td>\n",
       "    </tr>\n",
       "  </tbody>\n",
       "</table>\n",
       "</div>"
      ],
      "text/plain": [
       "    Threshold  Accuracy  Precision    Recall  F1-Score\n",
       "0        0.00  0.483194   0.483194  1.000000  0.651559\n",
       "1        0.05  0.695280   0.613889  0.995481  0.759446\n",
       "2        0.10  0.753129   0.664038  0.989927  0.794877\n",
       "3        0.15  0.794805   0.706965  0.982637  0.822312\n",
       "4        0.20  0.823524   0.741522  0.974440  0.842173\n",
       "5        0.25  0.844856   0.771646  0.964282  0.857276\n",
       "6        0.30  0.860967   0.798624  0.952419  0.868767\n",
       "7        0.35  0.872581   0.823241  0.937613  0.876713\n",
       "8        0.40  0.879796   0.843482  0.922392  0.881174\n",
       "9        0.45  0.883917   0.862983  0.903153  0.882611\n",
       "10       0.50  0.885317   0.882213  0.880172  0.881191\n",
       "11       0.55  0.882902   0.898773  0.853823  0.875722\n",
       "12       0.60  0.877643   0.913130  0.825289  0.866990\n",
       "13       0.65  0.869181   0.925189  0.793419  0.854252\n",
       "14       0.70  0.856362   0.937944  0.752521  0.835063\n",
       "15       0.75  0.840097   0.947540  0.708286  0.810628\n",
       "16       0.80  0.818734   0.957685  0.653744  0.777051\n",
       "17       0.85  0.790196   0.967551  0.585431  0.729480\n",
       "18       0.90  0.753675   0.974574  0.503347  0.663836\n",
       "19       0.95  0.698237   0.982972  0.382102  0.550293\n",
       "20       1.00  0.586026   0.994918  0.143992  0.251574"
      ]
     },
     "execution_count": 32,
     "metadata": {},
     "output_type": "execute_result"
    }
   ],
   "source": [
    "accuracy_th = []\n",
    "precision_th = []\n",
    "recall_th = []\n",
    "f1_score_th = []\n",
    "start = time.time()\n",
    "y_pred_th = pl.predict_proba(X_test)[:, 1]\n",
    "end = time.time()\n",
    "print(timer(start, end))\n",
    "for threshold in np.linspace(0.0, 1.0, num=21):\n",
    "    y_temp = [1.0 if val >= threshold else 0.0 for val in y_pred_th]\n",
    "    accuracy_th.append((accuracy_score(y_test, y_temp)))\n",
    "    precision_th.append(precision_score(y_test, y_temp))\n",
    "    recall_th.append(recall_score(y_test, y_temp))\n",
    "    f1_score_th.append(f1_score(y_test, y_temp))\n",
    "    \n",
    "rf_threshold = pd.DataFrame({'Threshold': np.linspace(0.0, 1.0, num=21),\n",
    "                             'Accuracy': accuracy_th,\n",
    "                             'Precision': precision_th,\n",
    "                             'Recall': recall_th,\n",
    "                             'F1-Score': f1_score_th})\n",
    "\n",
    "rf_threshold = rf_threshold[['Threshold', 'Accuracy', 'Precision', 'Recall', 'F1-Score']]\n",
    "rf_threshold"
   ]
  },
  {
   "cell_type": "markdown",
   "metadata": {},
   "source": [
    "### Summary"
   ]
  },
  {
   "cell_type": "code",
   "execution_count": 33,
   "metadata": {
    "collapsed": true
   },
   "outputs": [],
   "source": [
    "results = pd.DataFrame({'Model': ['RF', 'RF Tuned', 'RF Tuned + Adjusted Threshold'],\n",
    "                        'Accuracy': [accuracy_score(y_test, y_pred), accuracy_score(y_test, y_pred_05), accuracy_score(y_test, y_pred_04)],\n",
    "                        'Precision': [precision_score(y_test, y_pred), precision_score(y_test, y_pred_05), precision_score(y_test, y_pred_04)],\n",
    "                        'Recall': [recall_score(y_test, y_pred), recall_score(y_test, y_pred_05), recall_score(y_test, y_pred_04)],\n",
    "                        'F1-Score': [f1_score(y_test, y_pred), f1_score(y_test, y_pred_05), f1_score(y_test, y_pred_04)]})"
   ]
  },
  {
   "cell_type": "code",
   "execution_count": 34,
   "metadata": {
    "collapsed": false
   },
   "outputs": [
    {
     "data": {
      "text/html": [
       "<div>\n",
       "<table border=\"1\" class=\"dataframe\">\n",
       "  <thead>\n",
       "    <tr style=\"text-align: right;\">\n",
       "      <th></th>\n",
       "      <th>Model</th>\n",
       "      <th>Accuracy</th>\n",
       "      <th>Precision</th>\n",
       "      <th>Recall</th>\n",
       "      <th>F1-Score</th>\n",
       "    </tr>\n",
       "  </thead>\n",
       "  <tbody>\n",
       "    <tr>\n",
       "      <th>0</th>\n",
       "      <td>RF</td>\n",
       "      <td>0.869490</td>\n",
       "      <td>0.852311</td>\n",
       "      <td>0.882890</td>\n",
       "      <td>0.867331</td>\n",
       "    </tr>\n",
       "    <tr>\n",
       "      <th>1</th>\n",
       "      <td>RF Tuned</td>\n",
       "      <td>0.885317</td>\n",
       "      <td>0.882213</td>\n",
       "      <td>0.880172</td>\n",
       "      <td>0.881191</td>\n",
       "    </tr>\n",
       "    <tr>\n",
       "      <th>2</th>\n",
       "      <td>RF Tuned + Adjusted Threshold</td>\n",
       "      <td>0.879796</td>\n",
       "      <td>0.843482</td>\n",
       "      <td>0.922392</td>\n",
       "      <td>0.881174</td>\n",
       "    </tr>\n",
       "  </tbody>\n",
       "</table>\n",
       "</div>"
      ],
      "text/plain": [
       "                           Model  Accuracy  Precision    Recall  F1-Score\n",
       "0                             RF  0.869490   0.852311  0.882890  0.867331\n",
       "1                       RF Tuned  0.885317   0.882213  0.880172  0.881191\n",
       "2  RF Tuned + Adjusted Threshold  0.879796   0.843482  0.922392  0.881174"
      ]
     },
     "execution_count": 34,
     "metadata": {},
     "output_type": "execute_result"
    }
   ],
   "source": [
    "results[['Model', 'Accuracy','Precision','Recall','F1-Score']]"
   ]
  },
  {
   "cell_type": "markdown",
   "metadata": {},
   "source": [
    "### Confusion Matrices"
   ]
  },
  {
   "cell_type": "code",
   "execution_count": 36,
   "metadata": {
    "collapsed": true
   },
   "outputs": [],
   "source": [
    "def plot_confusion_matrix(cm, classes,\n",
    "                          normalize=False,\n",
    "                          title='Confusion matrix',\n",
    "                          cmap=plt.cm.Blues):\n",
    "    \"\"\"\n",
    "    This function prints and plots the confusion matrix.\n",
    "    Normalization can be applied by setting `normalize=True`.\n",
    "    \"\"\"\n",
    "    plt.imshow(cm, interpolation='nearest', cmap=cmap)\n",
    "    plt.title(title)\n",
    "    #plt.colorbar()\n",
    "    tick_marks = np.arange(len(classes))\n",
    "    plt.xticks(tick_marks, classes, rotation=45)\n",
    "    plt.yticks(tick_marks, classes)\n",
    "\n",
    "    thresh = cm.max() / 2.\n",
    "    for i, j in itertools.product(range(cm.shape[0]), range(cm.shape[1])):\n",
    "        plt.text(j, i, cm[i, j],\n",
    "                 horizontalalignment=\"center\",\n",
    "                 color=\"white\" if cm[i, j] > thresh else \"black\")\n",
    "\n",
    "    plt.tight_layout()\n",
    "    plt.ylabel('True label')\n",
    "    plt.xlabel('Predicted label')"
   ]
  },
  {
   "cell_type": "code",
   "execution_count": 37,
   "metadata": {
    "collapsed": false
   },
   "outputs": [],
   "source": [
    "class_names = np.unique(y_train)\n",
    "\n",
    "confusion_matrices = [(\"Random Forest\", confusion_matrix(y_test, y_pred)),\n",
    "                      (\"Random Forest - Tuned (0.5)\", confusion_matrix(y_test, y_pred_05)),\n",
    "                      (\"Random Forest - Tuned (0.4)\", confusion_matrix(y_test, y_pred_04))]"
   ]
  },
  {
   "cell_type": "code",
   "execution_count": 38,
   "metadata": {
    "collapsed": false
   },
   "outputs": [
    {
     "data": {
      "image/png": "[encoded data removed]",
      "text/plain": [
       "<matplotlib.figure.Figure at 0x2ea6a748>"
      ]
     },
     "metadata": {},
     "output_type": "display_data"
    }
   ],
   "source": [
    "plt.figure(figsize=(12, 15))\n",
    "sub1 = plt.subplot(1, 3, 1)\n",
    "plot_confusion_matrix(confusion_matrices[0][1], class_names,\n",
    "                          normalize=False,\n",
    "                          title= confusion_matrices[0][0],\n",
    "                          cmap=plt.cm.Blues)\n",
    "\n",
    "sub2 = plt.subplot(1, 3, 2)\n",
    "plot_confusion_matrix(confusion_matrices[1][1], class_names,\n",
    "                          normalize=False,\n",
    "                          title= confusion_matrices[1][0],\n",
    "                          cmap=plt.cm.Blues)\n",
    "\n",
    "sub3 = plt.subplot(1, 3, 3)\n",
    "plot_confusion_matrix(confusion_matrices[2][1], class_names,\n",
    "                          normalize=False,\n",
    "                          title= confusion_matrices[2][0],\n",
    "                          cmap=plt.cm.Blues)"
   ]
  },
  {
   "cell_type": "code",
   "execution_count": 39,
   "metadata": {
    "collapsed": false
   },
   "outputs": [
    {
     "data": {
      "text/plain": [
       "(194162, 19)"
      ]
     },
     "execution_count": 39,
     "metadata": {},
     "output_type": "execute_result"
    }
   ],
   "source": [
    "X_test.shape"
   ]
  },
  {
   "cell_type": "markdown",
   "metadata": {},
   "source": [
    "### New Predictions: Different Quarters for Test Set?"
   ]
  },
  {
   "cell_type": "code",
   "execution_count": 60,
   "metadata": {
    "collapsed": false
   },
   "outputs": [
    {
     "name": "stdout",
     "output_type": "stream",
     "text": [
      "Process took: 0.0 hours, 0.0 minutes, 23.212729692459106 seconds\n",
      "Number of records for 2017 Q 2:  143676\n"
     ]
    }
   ],
   "source": [
    "# Records expiring '2017 Q 2'\n",
    "qtr = '2017 Q 2'\n",
    "querystring = \"SELECT * FROM CHURN_V1 WHERE EXPIRATION_DATE = '\" + qtr + \"'\"\n",
    "\n",
    "curs.execute(querystring)\n",
    "\n",
    "start = time.time()\n",
    "res = curs.fetchall()\n",
    "end = time.time()\n",
    "print(timer(start, end))\n",
    "\n",
    "df_q2 = pd.DataFrame(res)\n",
    "print(\"Number of records for \" + qtr + \": \", df_q2.shape[0])\n",
    "\n",
    "# Add column labels\n",
    "df_q2.columns = ['INSTANCE_ID', 'CONTRACT_ID', 'OPTY_STATUS', 'ITEM_QUANTITY', 'PRICE_NEGOTIATED', 'ERP_ID', 'PARTY_SITE_NUMBER',\n",
    "              'X_CDH_ID', 'PARTY_SITE_ID', 'PARTY_SITE_ID_VALIDATION', 'INSTALL_SITE_ID', 'SFDC_ID', 'SIC_CODE',\n",
    "              'PRIMARYSIC', 'ACCOUNT_NAME', 'SALES_CHANNEL_CODE', 'INSTANCE_COUNT', 'START_DATE', 'EXPIRATION_DATE',\n",
    "              'CONTRACT_LENGTH', 'INVENTORY_ITEM_ID', 'INVENTORY_ITEM_ID_VALIDATION', 'PRODUCT', 'BUYING_PROGRAM', 'SUB_REGION',\n",
    "              'KEY_CUST_FLAG', 'INSTANCE_AGE', 'INDUSTRY', 'LOST_CONTRACTS', 'TOTAL_INSTANCES_OWNED','CONTRACT_LINE_END_DATE',\n",
    "              'CONTRACT_LINE_STATUS_CODE', 'NXT_CONTRACT_LN_END_DATE', 'NXT_CONTRACT_LN_STATUS_CODE', 'PAST_CASE_COUNT',\n",
    "              'HIGH_SEVERITY_COUNT', 'PAST_ESCALATION_COUNT', 'OPTY_AMT']"
   ]
  },
  {
   "cell_type": "markdown",
   "metadata": {},
   "source": [
    "### Preprocessing"
   ]
  },
  {
   "cell_type": "code",
   "execution_count": 61,
   "metadata": {
    "collapsed": true
   },
   "outputs": [],
   "source": [
    "def preprocessing_churn(df):\n",
    "    df_result = df.copy()\n",
    "    \n",
    "    def remove_year(row):\n",
    "        return row[5:]\n",
    "\n",
    "    # Too many missing values to fill\n",
    "    df_result.drop(['KEY_CUST_FLAG', 'INDUSTRY'], axis=1, inplace=True)\n",
    "\n",
    "    # Drop Indentifier Columns\n",
    "    df_result.drop(['ERP_ID', 'PARTY_SITE_NUMBER', 'X_CDH_ID', 'PARTY_SITE_ID','PARTY_SITE_ID_VALIDATION', \n",
    "             'INSTALL_SITE_ID', 'SFDC_ID', 'PRIMARYSIC', 'INVENTORY_ITEM_ID', 'INVENTORY_ITEM_ID_VALIDATION'], \n",
    "            axis=1, inplace=True)\n",
    "\n",
    "    # Drop Unnecessary Columns: These are dropped for now since the expiration date has passed.\n",
    "    df_result.drop(['CONTRACT_LINE_END_DATE','CONTRACT_LINE_STATUS_CODE', 'NXT_CONTRACT_LN_END_DATE', 'NXT_CONTRACT_LN_STATUS_CODE'], \n",
    "            axis=1, inplace=True)\n",
    "    \n",
    "    # Fill numerical columns nan's with zeros\n",
    "    df_result.PAST_CASE_COUNT.fillna(value=0, inplace=True)  # 80% missing values\n",
    "    df_result.PAST_ESCALATION_COUNT.fillna(value=0, inplace=True)  # 80% missing values\n",
    "    df_result.HIGH_SEVERITY_COUNT.fillna(value=0, inplace=True)  # 80% missing values\n",
    "    df_result.OPTY_AMT.fillna(value=0, inplace=True)  # 41% missing values\n",
    "\n",
    "    # Fill in with 'OTHER'\n",
    "    df_result.SUB_REGION.fillna('OTHER', inplace=True)\n",
    "    df_result.BUYING_PROGRAM.fillna('OTHER', inplace=True)\n",
    "\n",
    "    # Fill in with 'NOT AVAILABLE'\n",
    "    df_result.ACCOUNT_NAME.fillna('NOT AVAILABLE', inplace=True)\n",
    "    df_result.SIC_CODE.fillna('NOT AVAILABLE', inplace=True)\n",
    "\n",
    "    # Remove rows with * in ACCOUNT_NAME\n",
    "    df_result = df_result[~df_result.ACCOUNT_NAME.str.startswith(\"*\")]\n",
    "    \n",
    "    # Drop all rows with Missing Values\n",
    "    print(\"Number of rows before dropping rows of missing values: \", df_result.shape[0])\n",
    "    df_result.dropna(inplace=True)\n",
    "    print(\"Number of rows AFTER dropping rows of missing values: \", df_result.shape[0])\n",
    "    \n",
    "    df_result['START_QTR'] = df_result.START_DATE.apply(remove_year)\n",
    "    df_result['EXPIRATION_QTR'] = df_result.EXPIRATION_DATE.apply(remove_year)\n",
    "    return df_result"
   ]
  },
  {
   "cell_type": "code",
   "execution_count": 62,
   "metadata": {
    "collapsed": false
   },
   "outputs": [
    {
     "name": "stdout",
     "output_type": "stream",
     "text": [
      "Number of rows before dropping rows of missing values:  143368\n",
      "Number of rows AFTER dropping rows of missing values:  142199\n"
     ]
    }
   ],
   "source": [
    "df_q2_clean = preprocessing_churn(df_q2)"
   ]
  },
  {
   "cell_type": "markdown",
   "metadata": {},
   "source": [
    "### Encoding Categorical"
   ]
  },
  {
   "cell_type": "code",
   "execution_count": 63,
   "metadata": {
    "collapsed": true
   },
   "outputs": [],
   "source": [
    "df_q2_clean[categorical_cols_encoded]= df_q2_clean[categorical_cols].apply(lambda x: d_encoder[x.name].transform(x))"
   ]
  },
  {
   "cell_type": "markdown",
   "metadata": {},
   "source": [
    "### Change OPTY_STATUS to 1.0/0.0 Values"
   ]
  },
  {
   "cell_type": "code",
   "execution_count": 64,
   "metadata": {
    "collapsed": true
   },
   "outputs": [],
   "source": [
    "# Transforming, Encoding 'Opty_status'\n",
    "df_q2_clean['OPTY_STATUS_ENC'] = df_q2_clean.OPTY_STATUS.apply(change_label)"
   ]
  },
  {
   "cell_type": "markdown",
   "metadata": {},
   "source": [
    "### Define X and y's"
   ]
  },
  {
   "cell_type": "code",
   "execution_count": 65,
   "metadata": {
    "collapsed": false
   },
   "outputs": [],
   "source": [
    "X_q2 = df_q2_clean[categorical_cols_encoded + numerical_cols]\n",
    "\n",
    "y_q2 = df_q2_clean['OPTY_STATUS_ENC']"
   ]
  },
  {
   "cell_type": "code",
   "execution_count": 66,
   "metadata": {
    "collapsed": false
   },
   "outputs": [
    {
     "name": "stdout",
     "output_type": "stream",
     "text": [
      "Process took: 0.0 hours, 0.0 minutes, 28.34728693962097 seconds\n"
     ]
    }
   ],
   "source": [
    "threshold = 0.4\n",
    "start = time.time()\n",
    "y_pred_q2 = [1.0 if val >= threshold else 0.0 for val in pl.predict_proba(X_q2)[:, 1]]\n",
    "end = time.time()\n",
    "print(timer(start, end))"
   ]
  },
  {
   "cell_type": "code",
   "execution_count": 67,
   "metadata": {
    "collapsed": false
   },
   "outputs": [
    {
     "name": "stdout",
     "output_type": "stream",
     "text": [
      "Prediction Accuracy for test set: 94.12%\n",
      "Prediction Precision for test set: 91.89%\n",
      "Prediction Recall for test set: 95.69%\n",
      "Prediction F1-score for test set: 93.75%\n"
     ]
    }
   ],
   "source": [
    "show_scores(y_q2, y_pred_q2)"
   ]
  },
  {
   "cell_type": "code",
   "execution_count": 74,
   "metadata": {
    "collapsed": false
   },
   "outputs": [
    {
     "name": "stdout",
     "output_type": "stream",
     "text": [
      "Number of Instances, Contracts in 2017 Q 2: 142199 \n",
      "Number of Instances, Contracts that Churned in 2017 Q 2: 65549 \n"
     ]
    },
    {
     "data": {
      "image/png": "[encoded data removed]",
      "text/plain": [
       "<matplotlib.figure.Figure at 0x264d0e10>"
      ]
     },
     "metadata": {},
     "output_type": "display_data"
    }
   ],
   "source": [
    "print(\"Number of Instances, Contracts in {0}: {1} \".format(qtr, len(y_q2)))\n",
    "print(\"Number of Instances, Contracts that Churned in {0}: {1} \".format(qtr, int(y_q2.sum())))\n",
    "\n",
    "plot_confusion_matrix( confusion_matrix(y_q2, y_pred_q2),  np.unique(y_q2),\n",
    "                          normalize=False,\n",
    "                          title= \"Random Forest, Test Data: \"+qtr,\n",
    "                          cmap=plt.cm.Blues)"
   ]
  },
  {
   "cell_type": "markdown",
   "metadata": {},
   "source": [
    "### Reference"
   ]
  },
  {
   "cell_type": "markdown",
   "metadata": {},
   "source": [
    "$$Accuracy =\\frac{tp + tn}{tp + tn + fp + fn}$$\n",
    "\n",
    "$$ Precision = \\frac{tp}{tp + fp} $$\n",
    "\n",
    "$$ Recall = \\frac{tp}{tp + fn} $$\n",
    "\n",
    "$$ f1 Score = 2 \\, \\frac{precision*recall}{precision + recall} $$"
   ]
  },
  {
   "cell_type": "markdown",
   "metadata": {},
   "source": [
    "### Prediction for 2017 Q 4"
   ]
  },
  {
   "cell_type": "code",
   "execution_count": 75,
   "metadata": {
    "collapsed": false
   },
   "outputs": [
    {
     "name": "stdout",
     "output_type": "stream",
     "text": [
      "Process took: 0.0 hours, 0.0 minutes, 17.705551385879517 seconds\n",
      "Number of records for 2017 Q 4:  116441\n"
     ]
    }
   ],
   "source": [
    "# Records expiring '2017 Q 4'\n",
    "qtr = '2017 Q 4'\n",
    "querystring = \"SELECT * FROM CHURN_V1 WHERE EXPIRATION_DATE = '\" + qtr + \"'\"\n",
    "\n",
    "curs.execute(querystring)\n",
    "\n",
    "start = time.time()\n",
    "res = curs.fetchall()\n",
    "end = time.time()\n",
    "print(timer(start, end))\n",
    "\n",
    "df_q4 = pd.DataFrame(res)\n",
    "print(\"Number of records for \" + qtr + \": \", df_q4.shape[0])\n",
    "\n",
    "# Add column labels\n",
    "df_q4.columns = ['INSTANCE_ID', 'CONTRACT_ID', 'OPTY_STATUS', 'ITEM_QUANTITY', 'PRICE_NEGOTIATED', 'ERP_ID', 'PARTY_SITE_NUMBER',\n",
    "              'X_CDH_ID', 'PARTY_SITE_ID', 'PARTY_SITE_ID_VALIDATION', 'INSTALL_SITE_ID', 'SFDC_ID', 'SIC_CODE',\n",
    "              'PRIMARYSIC', 'ACCOUNT_NAME', 'SALES_CHANNEL_CODE', 'INSTANCE_COUNT', 'START_DATE', 'EXPIRATION_DATE',\n",
    "              'CONTRACT_LENGTH', 'INVENTORY_ITEM_ID', 'INVENTORY_ITEM_ID_VALIDATION', 'PRODUCT', 'BUYING_PROGRAM', 'SUB_REGION',\n",
    "              'KEY_CUST_FLAG', 'INSTANCE_AGE', 'INDUSTRY', 'LOST_CONTRACTS', 'TOTAL_INSTANCES_OWNED','CONTRACT_LINE_END_DATE',\n",
    "              'CONTRACT_LINE_STATUS_CODE', 'NXT_CONTRACT_LN_END_DATE', 'NXT_CONTRACT_LN_STATUS_CODE', 'PAST_CASE_COUNT',\n",
    "              'HIGH_SEVERITY_COUNT', 'PAST_ESCALATION_COUNT', 'OPTY_AMT']"
   ]
  },
  {
   "cell_type": "code",
   "execution_count": 76,
   "metadata": {
    "collapsed": false
   },
   "outputs": [
    {
     "name": "stdout",
     "output_type": "stream",
     "text": [
      "Number of rows before dropping rows of missing values:  116298\n",
      "Number of rows AFTER dropping rows of missing values:  107804\n"
     ]
    }
   ],
   "source": [
    "# Preprocess\n",
    "df_q4_clean = preprocessing_churn(df_q4)"
   ]
  },
  {
   "cell_type": "code",
   "execution_count": 77,
   "metadata": {
    "collapsed": true
   },
   "outputs": [],
   "source": [
    "# Encode Variables\n",
    "df_q4_clean[categorical_cols_encoded]= df_q4_clean[categorical_cols].apply(lambda x: d_encoder[x.name].transform(x))"
   ]
  },
  {
   "cell_type": "code",
   "execution_count": 78,
   "metadata": {
    "collapsed": true
   },
   "outputs": [],
   "source": [
    "# Transforming, Encoding 'Opty_status'\n",
    "df_q4_clean['OPTY_STATUS_ENC'] = df_q4_clean.OPTY_STATUS.apply(change_label)"
   ]
  },
  {
   "cell_type": "code",
   "execution_count": 79,
   "metadata": {
    "collapsed": true
   },
   "outputs": [],
   "source": [
    "# Define X and y's\n",
    "X_q4 = df_q4_clean[categorical_cols_encoded + numerical_cols]\n",
    "\n",
    "y_q4 = df_q4_clean['OPTY_STATUS_ENC']"
   ]
  },
  {
   "cell_type": "code",
   "execution_count": 80,
   "metadata": {
    "collapsed": false
   },
   "outputs": [
    {
     "name": "stdout",
     "output_type": "stream",
     "text": [
      "Process took: 0.0 hours, 0.0 minutes, 22.561657428741455 seconds\n"
     ]
    }
   ],
   "source": [
    "threshold = 0.4\n",
    "start = time.time()\n",
    "y_pred_proba_q4 = pl.predict_proba(X_q4)[:, 1]\n",
    "y_pred_q4 = [1.0 if val >= threshold else 0.0 for val in y_pred_proba_q4]\n",
    "end = time.time()\n",
    "print(timer(start, end))"
   ]
  },
  {
   "cell_type": "markdown",
   "metadata": {},
   "source": [
    "### User-Friendly Output"
   ]
  },
  {
   "cell_type": "code",
   "execution_count": 92,
   "metadata": {
    "collapsed": false
   },
   "outputs": [],
   "source": [
    "# Add Churn Probability: 'CHURN_PROBABILITY'\n",
    "df_q4_clean['CHURN_PROBABILITY'] = y_pred_proba_q4\n",
    "df_q4_clean['PREDICTION'] = ['CHURN' if val >= 0.4 else 'NOT CHURN' for val in y_pred_proba_q4]"
   ]
  },
  {
   "cell_type": "code",
   "execution_count": 116,
   "metadata": {
    "collapsed": false
   },
   "outputs": [],
   "source": [
    "df_results = df_q4_clean.sort_values(['CHURN_PROBABILITY'], ascending=False)[['INSTANCE_ID','CONTRACT_ID',\n",
    "                                                                              'START_DATE', 'EXPIRATION_DATE', \n",
    "                                                                              'PREDICTION', 'OPTY_STATUS', 'CHURN_PROBABILITY']]"
   ]
  },
  {
   "cell_type": "code",
   "execution_count": 117,
   "metadata": {
    "collapsed": false,
    "scrolled": true
   },
   "outputs": [
    {
     "data": {
      "text/html": [
       "<div>\n",
       "<table border=\"1\" class=\"dataframe\">\n",
       "  <thead>\n",
       "    <tr style=\"text-align: right;\">\n",
       "      <th></th>\n",
       "      <th>INSTANCE_ID</th>\n",
       "      <th>CONTRACT_ID</th>\n",
       "      <th>START_DATE</th>\n",
       "      <th>EXPIRATION_DATE</th>\n",
       "      <th>PREDICTION</th>\n",
       "      <th>OPTY_STATUS</th>\n",
       "      <th>CHURN_PROBABILITY</th>\n",
       "    </tr>\n",
       "  </thead>\n",
       "  <tbody>\n",
       "    <tr>\n",
       "      <th>44358</th>\n",
       "      <td>3296563</td>\n",
       "      <td>2085217</td>\n",
       "      <td>2016 Q 4</td>\n",
       "      <td>2017 Q 4</td>\n",
       "      <td>CHURN</td>\n",
       "      <td>LOST</td>\n",
       "      <td>1.000000</td>\n",
       "    </tr>\n",
       "    <tr>\n",
       "      <th>86227</th>\n",
       "      <td>3291922</td>\n",
       "      <td>2113836</td>\n",
       "      <td>2016 Q 4</td>\n",
       "      <td>2017 Q 4</td>\n",
       "      <td>CHURN</td>\n",
       "      <td>NEW</td>\n",
       "      <td>1.000000</td>\n",
       "    </tr>\n",
       "    <tr>\n",
       "      <th>112720</th>\n",
       "      <td>590528</td>\n",
       "      <td>436811</td>\n",
       "      <td>2014 Q 4</td>\n",
       "      <td>2017 Q 4</td>\n",
       "      <td>CHURN</td>\n",
       "      <td>LOST</td>\n",
       "      <td>1.000000</td>\n",
       "    </tr>\n",
       "    <tr>\n",
       "      <th>98740</th>\n",
       "      <td>3296571</td>\n",
       "      <td>2085217</td>\n",
       "      <td>2016 Q 4</td>\n",
       "      <td>2017 Q 4</td>\n",
       "      <td>CHURN</td>\n",
       "      <td>LOST</td>\n",
       "      <td>1.000000</td>\n",
       "    </tr>\n",
       "    <tr>\n",
       "      <th>37993</th>\n",
       "      <td>1274914</td>\n",
       "      <td>1656228</td>\n",
       "      <td>2014 Q 4</td>\n",
       "      <td>2017 Q 4</td>\n",
       "      <td>CHURN</td>\n",
       "      <td>LOST</td>\n",
       "      <td>1.000000</td>\n",
       "    </tr>\n",
       "    <tr>\n",
       "      <th>44805</th>\n",
       "      <td>1203046</td>\n",
       "      <td>561539</td>\n",
       "      <td>2014 Q 4</td>\n",
       "      <td>2017 Q 4</td>\n",
       "      <td>CHURN</td>\n",
       "      <td>LOST</td>\n",
       "      <td>1.000000</td>\n",
       "    </tr>\n",
       "    <tr>\n",
       "      <th>38228</th>\n",
       "      <td>3411523</td>\n",
       "      <td>2214901</td>\n",
       "      <td>2016 Q 4</td>\n",
       "      <td>2017 Q 4</td>\n",
       "      <td>CHURN</td>\n",
       "      <td>NEW</td>\n",
       "      <td>1.000000</td>\n",
       "    </tr>\n",
       "    <tr>\n",
       "      <th>49635</th>\n",
       "      <td>593557</td>\n",
       "      <td>202524</td>\n",
       "      <td>2014 Q 4</td>\n",
       "      <td>2017 Q 4</td>\n",
       "      <td>CHURN</td>\n",
       "      <td>LOST</td>\n",
       "      <td>1.000000</td>\n",
       "    </tr>\n",
       "    <tr>\n",
       "      <th>108311</th>\n",
       "      <td>666649</td>\n",
       "      <td>200546</td>\n",
       "      <td>2014 Q 4</td>\n",
       "      <td>2017 Q 4</td>\n",
       "      <td>CHURN</td>\n",
       "      <td>LOST</td>\n",
       "      <td>1.000000</td>\n",
       "    </tr>\n",
       "    <tr>\n",
       "      <th>104847</th>\n",
       "      <td>3291917</td>\n",
       "      <td>2113836</td>\n",
       "      <td>2016 Q 4</td>\n",
       "      <td>2017 Q 4</td>\n",
       "      <td>CHURN</td>\n",
       "      <td>NEW</td>\n",
       "      <td>1.000000</td>\n",
       "    </tr>\n",
       "    <tr>\n",
       "      <th>51425</th>\n",
       "      <td>3192153</td>\n",
       "      <td>1963041</td>\n",
       "      <td>2016 Q 4</td>\n",
       "      <td>2017 Q 4</td>\n",
       "      <td>CHURN</td>\n",
       "      <td>NEW</td>\n",
       "      <td>1.000000</td>\n",
       "    </tr>\n",
       "    <tr>\n",
       "      <th>14670</th>\n",
       "      <td>3411531</td>\n",
       "      <td>2214901</td>\n",
       "      <td>2016 Q 4</td>\n",
       "      <td>2017 Q 4</td>\n",
       "      <td>CHURN</td>\n",
       "      <td>NEW</td>\n",
       "      <td>1.000000</td>\n",
       "    </tr>\n",
       "    <tr>\n",
       "      <th>27903</th>\n",
       "      <td>3291919</td>\n",
       "      <td>2113836</td>\n",
       "      <td>2016 Q 4</td>\n",
       "      <td>2017 Q 4</td>\n",
       "      <td>CHURN</td>\n",
       "      <td>NEW</td>\n",
       "      <td>1.000000</td>\n",
       "    </tr>\n",
       "    <tr>\n",
       "      <th>51542</th>\n",
       "      <td>908943</td>\n",
       "      <td>448417</td>\n",
       "      <td>2014 Q 4</td>\n",
       "      <td>2017 Q 4</td>\n",
       "      <td>CHURN</td>\n",
       "      <td>LOST</td>\n",
       "      <td>1.000000</td>\n",
       "    </tr>\n",
       "    <tr>\n",
       "      <th>30834</th>\n",
       "      <td>3293017</td>\n",
       "      <td>2085217</td>\n",
       "      <td>2016 Q 4</td>\n",
       "      <td>2017 Q 4</td>\n",
       "      <td>CHURN</td>\n",
       "      <td>LOST</td>\n",
       "      <td>1.000000</td>\n",
       "    </tr>\n",
       "    <tr>\n",
       "      <th>47157</th>\n",
       "      <td>3293541</td>\n",
       "      <td>2085217</td>\n",
       "      <td>2016 Q 4</td>\n",
       "      <td>2017 Q 4</td>\n",
       "      <td>CHURN</td>\n",
       "      <td>LOST</td>\n",
       "      <td>1.000000</td>\n",
       "    </tr>\n",
       "    <tr>\n",
       "      <th>67063</th>\n",
       "      <td>3291994</td>\n",
       "      <td>2113836</td>\n",
       "      <td>2016 Q 4</td>\n",
       "      <td>2017 Q 4</td>\n",
       "      <td>CHURN</td>\n",
       "      <td>NEW</td>\n",
       "      <td>1.000000</td>\n",
       "    </tr>\n",
       "    <tr>\n",
       "      <th>67015</th>\n",
       "      <td>3411524</td>\n",
       "      <td>2214901</td>\n",
       "      <td>2016 Q 4</td>\n",
       "      <td>2017 Q 4</td>\n",
       "      <td>CHURN</td>\n",
       "      <td>NEW</td>\n",
       "      <td>1.000000</td>\n",
       "    </tr>\n",
       "    <tr>\n",
       "      <th>66996</th>\n",
       "      <td>1292359</td>\n",
       "      <td>122547</td>\n",
       "      <td>2014 Q 4</td>\n",
       "      <td>2017 Q 4</td>\n",
       "      <td>CHURN</td>\n",
       "      <td>LOST</td>\n",
       "      <td>1.000000</td>\n",
       "    </tr>\n",
       "    <tr>\n",
       "      <th>81029</th>\n",
       "      <td>3293856</td>\n",
       "      <td>2115422</td>\n",
       "      <td>2016 Q 4</td>\n",
       "      <td>2017 Q 4</td>\n",
       "      <td>CHURN</td>\n",
       "      <td>LOST</td>\n",
       "      <td>1.000000</td>\n",
       "    </tr>\n",
       "    <tr>\n",
       "      <th>98997</th>\n",
       "      <td>3293008</td>\n",
       "      <td>2115422</td>\n",
       "      <td>2016 Q 4</td>\n",
       "      <td>2017 Q 4</td>\n",
       "      <td>CHURN</td>\n",
       "      <td>LOST</td>\n",
       "      <td>1.000000</td>\n",
       "    </tr>\n",
       "    <tr>\n",
       "      <th>44995</th>\n",
       "      <td>664983</td>\n",
       "      <td>360864</td>\n",
       "      <td>2014 Q 4</td>\n",
       "      <td>2017 Q 4</td>\n",
       "      <td>CHURN</td>\n",
       "      <td>LOST</td>\n",
       "      <td>1.000000</td>\n",
       "    </tr>\n",
       "    <tr>\n",
       "      <th>28229</th>\n",
       "      <td>611905</td>\n",
       "      <td>456918</td>\n",
       "      <td>2014 Q 4</td>\n",
       "      <td>2017 Q 4</td>\n",
       "      <td>CHURN</td>\n",
       "      <td>NEW</td>\n",
       "      <td>1.000000</td>\n",
       "    </tr>\n",
       "    <tr>\n",
       "      <th>37671</th>\n",
       "      <td>374567</td>\n",
       "      <td>1214081</td>\n",
       "      <td>2014 Q 4</td>\n",
       "      <td>2017 Q 4</td>\n",
       "      <td>CHURN</td>\n",
       "      <td>LOST</td>\n",
       "      <td>1.000000</td>\n",
       "    </tr>\n",
       "    <tr>\n",
       "      <th>10960</th>\n",
       "      <td>418232</td>\n",
       "      <td>440991</td>\n",
       "      <td>2014 Q 4</td>\n",
       "      <td>2017 Q 4</td>\n",
       "      <td>CHURN</td>\n",
       "      <td>LOST</td>\n",
       "      <td>1.000000</td>\n",
       "    </tr>\n",
       "    <tr>\n",
       "      <th>2198</th>\n",
       "      <td>1305220</td>\n",
       "      <td>295419</td>\n",
       "      <td>2014 Q 4</td>\n",
       "      <td>2017 Q 4</td>\n",
       "      <td>CHURN</td>\n",
       "      <td>LOST</td>\n",
       "      <td>1.000000</td>\n",
       "    </tr>\n",
       "    <tr>\n",
       "      <th>34339</th>\n",
       "      <td>1205938</td>\n",
       "      <td>561539</td>\n",
       "      <td>2014 Q 4</td>\n",
       "      <td>2017 Q 4</td>\n",
       "      <td>CHURN</td>\n",
       "      <td>LOST</td>\n",
       "      <td>1.000000</td>\n",
       "    </tr>\n",
       "    <tr>\n",
       "      <th>34334</th>\n",
       "      <td>3293350</td>\n",
       "      <td>2085217</td>\n",
       "      <td>2016 Q 4</td>\n",
       "      <td>2017 Q 4</td>\n",
       "      <td>CHURN</td>\n",
       "      <td>LOST</td>\n",
       "      <td>1.000000</td>\n",
       "    </tr>\n",
       "    <tr>\n",
       "      <th>89377</th>\n",
       "      <td>3411520</td>\n",
       "      <td>2214901</td>\n",
       "      <td>2016 Q 4</td>\n",
       "      <td>2017 Q 4</td>\n",
       "      <td>CHURN</td>\n",
       "      <td>NEW</td>\n",
       "      <td>1.000000</td>\n",
       "    </tr>\n",
       "    <tr>\n",
       "      <th>28316</th>\n",
       "      <td>3286391</td>\n",
       "      <td>2113836</td>\n",
       "      <td>2016 Q 4</td>\n",
       "      <td>2017 Q 4</td>\n",
       "      <td>CHURN</td>\n",
       "      <td>NEW</td>\n",
       "      <td>1.000000</td>\n",
       "    </tr>\n",
       "    <tr>\n",
       "      <th>...</th>\n",
       "      <td>...</td>\n",
       "      <td>...</td>\n",
       "      <td>...</td>\n",
       "      <td>...</td>\n",
       "      <td>...</td>\n",
       "      <td>...</td>\n",
       "      <td>...</td>\n",
       "    </tr>\n",
       "    <tr>\n",
       "      <th>94981</th>\n",
       "      <td>3295607</td>\n",
       "      <td>2113820</td>\n",
       "      <td>2016 Q 4</td>\n",
       "      <td>2017 Q 4</td>\n",
       "      <td>CHURN</td>\n",
       "      <td>NEW</td>\n",
       "      <td>0.999996</td>\n",
       "    </tr>\n",
       "    <tr>\n",
       "      <th>94983</th>\n",
       "      <td>3293891</td>\n",
       "      <td>2113820</td>\n",
       "      <td>2016 Q 4</td>\n",
       "      <td>2017 Q 4</td>\n",
       "      <td>CHURN</td>\n",
       "      <td>NEW</td>\n",
       "      <td>0.999996</td>\n",
       "    </tr>\n",
       "    <tr>\n",
       "      <th>94985</th>\n",
       "      <td>3288988</td>\n",
       "      <td>2113820</td>\n",
       "      <td>2016 Q 4</td>\n",
       "      <td>2017 Q 4</td>\n",
       "      <td>CHURN</td>\n",
       "      <td>NEW</td>\n",
       "      <td>0.999996</td>\n",
       "    </tr>\n",
       "    <tr>\n",
       "      <th>94989</th>\n",
       "      <td>3292985</td>\n",
       "      <td>2113820</td>\n",
       "      <td>2016 Q 4</td>\n",
       "      <td>2017 Q 4</td>\n",
       "      <td>CHURN</td>\n",
       "      <td>NEW</td>\n",
       "      <td>0.999996</td>\n",
       "    </tr>\n",
       "    <tr>\n",
       "      <th>94991</th>\n",
       "      <td>3285891</td>\n",
       "      <td>2113820</td>\n",
       "      <td>2016 Q 4</td>\n",
       "      <td>2017 Q 4</td>\n",
       "      <td>CHURN</td>\n",
       "      <td>NEW</td>\n",
       "      <td>0.999996</td>\n",
       "    </tr>\n",
       "    <tr>\n",
       "      <th>94996</th>\n",
       "      <td>3291344</td>\n",
       "      <td>2113820</td>\n",
       "      <td>2016 Q 4</td>\n",
       "      <td>2017 Q 4</td>\n",
       "      <td>CHURN</td>\n",
       "      <td>NEW</td>\n",
       "      <td>0.999996</td>\n",
       "    </tr>\n",
       "    <tr>\n",
       "      <th>27083</th>\n",
       "      <td>3296078</td>\n",
       "      <td>2113820</td>\n",
       "      <td>2016 Q 4</td>\n",
       "      <td>2017 Q 4</td>\n",
       "      <td>CHURN</td>\n",
       "      <td>NEW</td>\n",
       "      <td>0.999996</td>\n",
       "    </tr>\n",
       "    <tr>\n",
       "      <th>27082</th>\n",
       "      <td>3291589</td>\n",
       "      <td>2113820</td>\n",
       "      <td>2016 Q 4</td>\n",
       "      <td>2017 Q 4</td>\n",
       "      <td>CHURN</td>\n",
       "      <td>NEW</td>\n",
       "      <td>0.999996</td>\n",
       "    </tr>\n",
       "    <tr>\n",
       "      <th>27080</th>\n",
       "      <td>3293778</td>\n",
       "      <td>2113820</td>\n",
       "      <td>2016 Q 4</td>\n",
       "      <td>2017 Q 4</td>\n",
       "      <td>CHURN</td>\n",
       "      <td>NEW</td>\n",
       "      <td>0.999996</td>\n",
       "    </tr>\n",
       "    <tr>\n",
       "      <th>27073</th>\n",
       "      <td>3293917</td>\n",
       "      <td>2113820</td>\n",
       "      <td>2016 Q 4</td>\n",
       "      <td>2017 Q 4</td>\n",
       "      <td>CHURN</td>\n",
       "      <td>NEW</td>\n",
       "      <td>0.999996</td>\n",
       "    </tr>\n",
       "    <tr>\n",
       "      <th>27068</th>\n",
       "      <td>3299664</td>\n",
       "      <td>2113820</td>\n",
       "      <td>2016 Q 4</td>\n",
       "      <td>2017 Q 4</td>\n",
       "      <td>CHURN</td>\n",
       "      <td>NEW</td>\n",
       "      <td>0.999996</td>\n",
       "    </tr>\n",
       "    <tr>\n",
       "      <th>27065</th>\n",
       "      <td>3293155</td>\n",
       "      <td>2113820</td>\n",
       "      <td>2016 Q 4</td>\n",
       "      <td>2017 Q 4</td>\n",
       "      <td>CHURN</td>\n",
       "      <td>NEW</td>\n",
       "      <td>0.999996</td>\n",
       "    </tr>\n",
       "    <tr>\n",
       "      <th>27063</th>\n",
       "      <td>3292176</td>\n",
       "      <td>2113820</td>\n",
       "      <td>2016 Q 4</td>\n",
       "      <td>2017 Q 4</td>\n",
       "      <td>CHURN</td>\n",
       "      <td>NEW</td>\n",
       "      <td>0.999996</td>\n",
       "    </tr>\n",
       "    <tr>\n",
       "      <th>26610</th>\n",
       "      <td>3299703</td>\n",
       "      <td>2113820</td>\n",
       "      <td>2016 Q 4</td>\n",
       "      <td>2017 Q 4</td>\n",
       "      <td>CHURN</td>\n",
       "      <td>NEW</td>\n",
       "      <td>0.999996</td>\n",
       "    </tr>\n",
       "    <tr>\n",
       "      <th>26600</th>\n",
       "      <td>3292507</td>\n",
       "      <td>2113820</td>\n",
       "      <td>2016 Q 4</td>\n",
       "      <td>2017 Q 4</td>\n",
       "      <td>CHURN</td>\n",
       "      <td>NEW</td>\n",
       "      <td>0.999996</td>\n",
       "    </tr>\n",
       "    <tr>\n",
       "      <th>26594</th>\n",
       "      <td>3298351</td>\n",
       "      <td>2113820</td>\n",
       "      <td>2016 Q 4</td>\n",
       "      <td>2017 Q 4</td>\n",
       "      <td>CHURN</td>\n",
       "      <td>NEW</td>\n",
       "      <td>0.999996</td>\n",
       "    </tr>\n",
       "    <tr>\n",
       "      <th>96319</th>\n",
       "      <td>3301453</td>\n",
       "      <td>2113820</td>\n",
       "      <td>2016 Q 4</td>\n",
       "      <td>2017 Q 4</td>\n",
       "      <td>CHURN</td>\n",
       "      <td>NEW</td>\n",
       "      <td>0.999996</td>\n",
       "    </tr>\n",
       "    <tr>\n",
       "      <th>25755</th>\n",
       "      <td>3288599</td>\n",
       "      <td>2113820</td>\n",
       "      <td>2016 Q 4</td>\n",
       "      <td>2017 Q 4</td>\n",
       "      <td>CHURN</td>\n",
       "      <td>NEW</td>\n",
       "      <td>0.999996</td>\n",
       "    </tr>\n",
       "    <tr>\n",
       "      <th>25746</th>\n",
       "      <td>3290776</td>\n",
       "      <td>2113820</td>\n",
       "      <td>2016 Q 4</td>\n",
       "      <td>2017 Q 4</td>\n",
       "      <td>CHURN</td>\n",
       "      <td>NEW</td>\n",
       "      <td>0.999996</td>\n",
       "    </tr>\n",
       "    <tr>\n",
       "      <th>25745</th>\n",
       "      <td>3301726</td>\n",
       "      <td>2113820</td>\n",
       "      <td>2016 Q 4</td>\n",
       "      <td>2017 Q 4</td>\n",
       "      <td>CHURN</td>\n",
       "      <td>NEW</td>\n",
       "      <td>0.999996</td>\n",
       "    </tr>\n",
       "    <tr>\n",
       "      <th>25730</th>\n",
       "      <td>3293195</td>\n",
       "      <td>2113820</td>\n",
       "      <td>2016 Q 4</td>\n",
       "      <td>2017 Q 4</td>\n",
       "      <td>CHURN</td>\n",
       "      <td>NEW</td>\n",
       "      <td>0.999996</td>\n",
       "    </tr>\n",
       "    <tr>\n",
       "      <th>25728</th>\n",
       "      <td>3288156</td>\n",
       "      <td>2113820</td>\n",
       "      <td>2016 Q 4</td>\n",
       "      <td>2017 Q 4</td>\n",
       "      <td>CHURN</td>\n",
       "      <td>NEW</td>\n",
       "      <td>0.999996</td>\n",
       "    </tr>\n",
       "    <tr>\n",
       "      <th>25725</th>\n",
       "      <td>3302253</td>\n",
       "      <td>2113820</td>\n",
       "      <td>2016 Q 4</td>\n",
       "      <td>2017 Q 4</td>\n",
       "      <td>CHURN</td>\n",
       "      <td>NEW</td>\n",
       "      <td>0.999996</td>\n",
       "    </tr>\n",
       "    <tr>\n",
       "      <th>25724</th>\n",
       "      <td>3290465</td>\n",
       "      <td>2113820</td>\n",
       "      <td>2016 Q 4</td>\n",
       "      <td>2017 Q 4</td>\n",
       "      <td>CHURN</td>\n",
       "      <td>NEW</td>\n",
       "      <td>0.999996</td>\n",
       "    </tr>\n",
       "    <tr>\n",
       "      <th>25721</th>\n",
       "      <td>3296003</td>\n",
       "      <td>2113820</td>\n",
       "      <td>2016 Q 4</td>\n",
       "      <td>2017 Q 4</td>\n",
       "      <td>CHURN</td>\n",
       "      <td>NEW</td>\n",
       "      <td>0.999996</td>\n",
       "    </tr>\n",
       "    <tr>\n",
       "      <th>25709</th>\n",
       "      <td>3291978</td>\n",
       "      <td>2113820</td>\n",
       "      <td>2016 Q 4</td>\n",
       "      <td>2017 Q 4</td>\n",
       "      <td>CHURN</td>\n",
       "      <td>NEW</td>\n",
       "      <td>0.999996</td>\n",
       "    </tr>\n",
       "    <tr>\n",
       "      <th>25706</th>\n",
       "      <td>3300740</td>\n",
       "      <td>2113820</td>\n",
       "      <td>2016 Q 4</td>\n",
       "      <td>2017 Q 4</td>\n",
       "      <td>CHURN</td>\n",
       "      <td>NEW</td>\n",
       "      <td>0.999996</td>\n",
       "    </tr>\n",
       "    <tr>\n",
       "      <th>25699</th>\n",
       "      <td>3288675</td>\n",
       "      <td>2113820</td>\n",
       "      <td>2016 Q 4</td>\n",
       "      <td>2017 Q 4</td>\n",
       "      <td>CHURN</td>\n",
       "      <td>NEW</td>\n",
       "      <td>0.999996</td>\n",
       "    </tr>\n",
       "    <tr>\n",
       "      <th>96300</th>\n",
       "      <td>3296796</td>\n",
       "      <td>2113820</td>\n",
       "      <td>2016 Q 4</td>\n",
       "      <td>2017 Q 4</td>\n",
       "      <td>CHURN</td>\n",
       "      <td>NEW</td>\n",
       "      <td>0.999996</td>\n",
       "    </tr>\n",
       "    <tr>\n",
       "      <th>96307</th>\n",
       "      <td>3292548</td>\n",
       "      <td>2113820</td>\n",
       "      <td>2016 Q 4</td>\n",
       "      <td>2017 Q 4</td>\n",
       "      <td>CHURN</td>\n",
       "      <td>NEW</td>\n",
       "      <td>0.999996</td>\n",
       "    </tr>\n",
       "  </tbody>\n",
       "</table>\n",
       "<p>500 rows × 7 columns</p>\n",
       "</div>"
      ],
      "text/plain": [
       "        INSTANCE_ID  CONTRACT_ID START_DATE EXPIRATION_DATE PREDICTION  \\\n",
       "44358       3296563      2085217   2016 Q 4        2017 Q 4      CHURN   \n",
       "86227       3291922      2113836   2016 Q 4        2017 Q 4      CHURN   \n",
       "112720       590528       436811   2014 Q 4        2017 Q 4      CHURN   \n",
       "98740       3296571      2085217   2016 Q 4        2017 Q 4      CHURN   \n",
       "37993       1274914      1656228   2014 Q 4        2017 Q 4      CHURN   \n",
       "44805       1203046       561539   2014 Q 4        2017 Q 4      CHURN   \n",
       "38228       3411523      2214901   2016 Q 4        2017 Q 4      CHURN   \n",
       "49635        593557       202524   2014 Q 4        2017 Q 4      CHURN   \n",
       "108311       666649       200546   2014 Q 4        2017 Q 4      CHURN   \n",
       "104847      3291917      2113836   2016 Q 4        2017 Q 4      CHURN   \n",
       "51425       3192153      1963041   2016 Q 4        2017 Q 4      CHURN   \n",
       "14670       3411531      2214901   2016 Q 4        2017 Q 4      CHURN   \n",
       "27903       3291919      2113836   2016 Q 4        2017 Q 4      CHURN   \n",
       "51542        908943       448417   2014 Q 4        2017 Q 4      CHURN   \n",
       "30834       3293017      2085217   2016 Q 4        2017 Q 4      CHURN   \n",
       "47157       3293541      2085217   2016 Q 4        2017 Q 4      CHURN   \n",
       "67063       3291994      2113836   2016 Q 4        2017 Q 4      CHURN   \n",
       "67015       3411524      2214901   2016 Q 4        2017 Q 4      CHURN   \n",
       "66996       1292359       122547   2014 Q 4        2017 Q 4      CHURN   \n",
       "81029       3293856      2115422   2016 Q 4        2017 Q 4      CHURN   \n",
       "98997       3293008      2115422   2016 Q 4        2017 Q 4      CHURN   \n",
       "44995        664983       360864   2014 Q 4        2017 Q 4      CHURN   \n",
       "28229        611905       456918   2014 Q 4        2017 Q 4      CHURN   \n",
       "37671        374567      1214081   2014 Q 4        2017 Q 4      CHURN   \n",
       "10960        418232       440991   2014 Q 4        2017 Q 4      CHURN   \n",
       "2198        1305220       295419   2014 Q 4        2017 Q 4      CHURN   \n",
       "34339       1205938       561539   2014 Q 4        2017 Q 4      CHURN   \n",
       "34334       3293350      2085217   2016 Q 4        2017 Q 4      CHURN   \n",
       "89377       3411520      2214901   2016 Q 4        2017 Q 4      CHURN   \n",
       "28316       3286391      2113836   2016 Q 4        2017 Q 4      CHURN   \n",
       "...             ...          ...        ...             ...        ...   \n",
       "94981       3295607      2113820   2016 Q 4        2017 Q 4      CHURN   \n",
       "94983       3293891      2113820   2016 Q 4        2017 Q 4      CHURN   \n",
       "94985       3288988      2113820   2016 Q 4        2017 Q 4      CHURN   \n",
       "94989       3292985      2113820   2016 Q 4        2017 Q 4      CHURN   \n",
       "94991       3285891      2113820   2016 Q 4        2017 Q 4      CHURN   \n",
       "94996       3291344      2113820   2016 Q 4        2017 Q 4      CHURN   \n",
       "27083       3296078      2113820   2016 Q 4        2017 Q 4      CHURN   \n",
       "27082       3291589      2113820   2016 Q 4        2017 Q 4      CHURN   \n",
       "27080       3293778      2113820   2016 Q 4        2017 Q 4      CHURN   \n",
       "27073       3293917      2113820   2016 Q 4        2017 Q 4      CHURN   \n",
       "27068       3299664      2113820   2016 Q 4        2017 Q 4      CHURN   \n",
       "27065       3293155      2113820   2016 Q 4        2017 Q 4      CHURN   \n",
       "27063       3292176      2113820   2016 Q 4        2017 Q 4      CHURN   \n",
       "26610       3299703      2113820   2016 Q 4        2017 Q 4      CHURN   \n",
       "26600       3292507      2113820   2016 Q 4        2017 Q 4      CHURN   \n",
       "26594       3298351      2113820   2016 Q 4        2017 Q 4      CHURN   \n",
       "96319       3301453      2113820   2016 Q 4        2017 Q 4      CHURN   \n",
       "25755       3288599      2113820   2016 Q 4        2017 Q 4      CHURN   \n",
       "25746       3290776      2113820   2016 Q 4        2017 Q 4      CHURN   \n",
       "25745       3301726      2113820   2016 Q 4        2017 Q 4      CHURN   \n",
       "25730       3293195      2113820   2016 Q 4        2017 Q 4      CHURN   \n",
       "25728       3288156      2113820   2016 Q 4        2017 Q 4      CHURN   \n",
       "25725       3302253      2113820   2016 Q 4        2017 Q 4      CHURN   \n",
       "25724       3290465      2113820   2016 Q 4        2017 Q 4      CHURN   \n",
       "25721       3296003      2113820   2016 Q 4        2017 Q 4      CHURN   \n",
       "25709       3291978      2113820   2016 Q 4        2017 Q 4      CHURN   \n",
       "25706       3300740      2113820   2016 Q 4        2017 Q 4      CHURN   \n",
       "25699       3288675      2113820   2016 Q 4        2017 Q 4      CHURN   \n",
       "96300       3296796      2113820   2016 Q 4        2017 Q 4      CHURN   \n",
       "96307       3292548      2113820   2016 Q 4        2017 Q 4      CHURN   \n",
       "\n",
       "       OPTY_STATUS  CHURN_PROBABILITY  \n",
       "44358         LOST           1.000000  \n",
       "86227          NEW           1.000000  \n",
       "112720        LOST           1.000000  \n",
       "98740         LOST           1.000000  \n",
       "37993         LOST           1.000000  \n",
       "44805         LOST           1.000000  \n",
       "38228          NEW           1.000000  \n",
       "49635         LOST           1.000000  \n",
       "108311        LOST           1.000000  \n",
       "104847         NEW           1.000000  \n",
       "51425          NEW           1.000000  \n",
       "14670          NEW           1.000000  \n",
       "27903          NEW           1.000000  \n",
       "51542         LOST           1.000000  \n",
       "30834         LOST           1.000000  \n",
       "47157         LOST           1.000000  \n",
       "67063          NEW           1.000000  \n",
       "67015          NEW           1.000000  \n",
       "66996         LOST           1.000000  \n",
       "81029         LOST           1.000000  \n",
       "98997         LOST           1.000000  \n",
       "44995         LOST           1.000000  \n",
       "28229          NEW           1.000000  \n",
       "37671         LOST           1.000000  \n",
       "10960         LOST           1.000000  \n",
       "2198          LOST           1.000000  \n",
       "34339         LOST           1.000000  \n",
       "34334         LOST           1.000000  \n",
       "89377          NEW           1.000000  \n",
       "28316          NEW           1.000000  \n",
       "...            ...                ...  \n",
       "94981          NEW           0.999996  \n",
       "94983          NEW           0.999996  \n",
       "94985          NEW           0.999996  \n",
       "94989          NEW           0.999996  \n",
       "94991          NEW           0.999996  \n",
       "94996          NEW           0.999996  \n",
       "27083          NEW           0.999996  \n",
       "27082          NEW           0.999996  \n",
       "27080          NEW           0.999996  \n",
       "27073          NEW           0.999996  \n",
       "27068          NEW           0.999996  \n",
       "27065          NEW           0.999996  \n",
       "27063          NEW           0.999996  \n",
       "26610          NEW           0.999996  \n",
       "26600          NEW           0.999996  \n",
       "26594          NEW           0.999996  \n",
       "96319          NEW           0.999996  \n",
       "25755          NEW           0.999996  \n",
       "25746          NEW           0.999996  \n",
       "25745          NEW           0.999996  \n",
       "25730          NEW           0.999996  \n",
       "25728          NEW           0.999996  \n",
       "25725          NEW           0.999996  \n",
       "25724          NEW           0.999996  \n",
       "25721          NEW           0.999996  \n",
       "25709          NEW           0.999996  \n",
       "25706          NEW           0.999996  \n",
       "25699          NEW           0.999996  \n",
       "96300          NEW           0.999996  \n",
       "96307          NEW           0.999996  \n",
       "\n",
       "[500 rows x 7 columns]"
      ]
     },
     "execution_count": 117,
     "metadata": {},
     "output_type": "execute_result"
    }
   ],
   "source": [
    "df_results.head(500)"
   ]
  },
  {
   "cell_type": "code",
   "execution_count": 102,
   "metadata": {
    "collapsed": true
   },
   "outputs": [],
   "source": [
    "# Save to .csv\n",
    "df_results.reset_index(inplace=True)\n",
    "df_results.to_csv('churn_probability.csv', sep=',', index=False)"
   ]
  },
  {
   "cell_type": "markdown",
   "metadata": {},
   "source": [
    "### Summary of Predictions"
   ]
  },
  {
   "cell_type": "code",
   "execution_count": 128,
   "metadata": {
    "collapsed": false
   },
   "outputs": [
    {
     "data": {
      "text/plain": [
       "PREDICTION\n",
       "CHURN        41900\n",
       "NOT CHURN    65904\n",
       "Name: INSTANCE_ID, dtype: int64"
      ]
     },
     "execution_count": 128,
     "metadata": {},
     "output_type": "execute_result"
    }
   ],
   "source": [
    "df_results.groupby('PREDICTION')['INSTANCE_ID'].count()"
   ]
  },
  {
   "cell_type": "code",
   "execution_count": 138,
   "metadata": {
    "collapsed": false
   },
   "outputs": [
    {
     "name": "stdout",
     "output_type": "stream",
     "text": [
      "Number of instances (total):  107804\n",
      "Percentage of Instances that Churned/LOST: 38.87%\n",
      "Percentage of Instances Not Churned/RENEWED: 61.13%\n"
     ]
    }
   ],
   "source": [
    "print(\"Number of instances (total): \", df_results.shape[0])\n",
    "print(\"Percentage of Instances that Churned/LOST: {:.2f}%\".format((df_results.groupby('PREDICTION')['INSTANCE_ID'].count()[0]/df_results.shape[0])*100))\n",
    "print(\"Percentage of Instances Not Churned/RENEWED: {:.2f}%\".format((df_results.groupby('PREDICTION')['INSTANCE_ID'].count()[1]/df_results.shape[0])*100))"
   ]
  },
  {
   "cell_type": "markdown",
   "metadata": {},
   "source": [
    "### Feature Importance"
   ]
  },
  {
   "cell_type": "code",
   "execution_count": 115,
   "metadata": {
    "collapsed": false
   },
   "outputs": [
    {
     "name": "stdout",
     "output_type": "stream",
     "text": [
      "Process took: 0.0 hours, 8.0 minutes, 3.2263998985290527 seconds\n",
      "Feature ranking:\n",
      "1. INSTANCE_AGE (0.152507)\n",
      "2. PRICE_NEGOTIATED (0.128512)\n",
      "3. OPTY_AMT (0.126103)\n",
      "4. INSTANCE_COUNT (0.080122)\n",
      "5. SIC_CODE_ENC (0.073492)\n",
      "6. CONTRACT_LENGTH (0.062341)\n",
      "7. ITEM_QUANTITY (0.053485)\n",
      "8. LOST_CONTRACTS (0.051290)\n",
      "9. TOTAL_INSTANCES_OWNED (0.050270)\n",
      "10. ACCOUNT_NAME_ENC (0.049656)\n",
      "11. PRODUCT_ENC (0.042905)\n",
      "12. SUB_REGION_ENC (0.028031)\n",
      "13. EXPIRATION_QTR_ENC (0.023136)\n",
      "14. START_QTR_ENC (0.020842)\n",
      "15. PAST_CASE_COUNT (0.019308)\n",
      "16. BUYING_PROGRAM_ENC (0.016597)\n",
      "17. SALES_CHANNEL_CODE_ENC (0.012082)\n",
      "18. HIGH_SEVERITY_COUNT (0.006878)\n",
      "19. PAST_ESCALATION_COUNT (0.002444)\n"
     ]
    },
    {
     "data": {
      "image/png": "[encoded data removed]",
      "text/plain": [
       "<matplotlib.figure.Figure at 0x323d38d0>"
      ]
     },
     "metadata": {},
     "output_type": "display_data"
    }
   ],
   "source": [
    "start = time.time()\n",
    "importances = RF(max_depth=None, n_estimators=500, max_features='log2').fit(X_train, y_train).feature_importances_\n",
    "end = time.time()\n",
    "print(timer(start, end))\n",
    "indices = np.argsort(importances)[::-1]\n",
    "\n",
    "feat_name = {}\n",
    "col_name = categorical_cols_encoded + numerical_cols\n",
    "\n",
    "for ind in indices:\n",
    "    feat_name[ind] = col_name[ind]\n",
    "\n",
    "# Print the feature ranking\n",
    "print(\"Feature ranking:\")\n",
    "\n",
    "xaxis_names = []\n",
    "for f in range(X_train.shape[1]):\n",
    "    xaxis_names.append(feat_name[indices[f]])\n",
    "    print(\"%d. %s (%f)\" % (f + 1, feat_name[indices[f]], importances[indices[f]]))\n",
    "\n",
    "# Plot the feature importances of the forest\n",
    "plt.figure()\n",
    "plt.title(\"Feature importances\")\n",
    "plt.barh(range(X_train.shape[1]), importances[indices],\n",
    "       color=\"r\", align=\"center\")\n",
    "plt.yticks(range(X_train.shape[1]), xaxis_names)\n",
    "plt.xlim([0, 1])\n",
    "plt.gca().invert_yaxis()\n",
    "plt.show()"
   ]
  },
  {
   "cell_type": "markdown",
   "metadata": {},
   "source": [
    "### Visualizing Random Forest"
   ]
  },
  {
   "cell_type": "code",
   "execution_count": 162,
   "metadata": {
    "collapsed": true
   },
   "outputs": [],
   "source": [
    "from sklearn import tree"
   ]
  },
  {
   "cell_type": "code",
   "execution_count": 164,
   "metadata": {
    "collapsed": false
   },
   "outputs": [
    {
     "name": "stdout",
     "output_type": "stream",
     "text": [
      "Training time:  Process took: 0.0 hours, 8.0 minutes, 16.712855577468872 seconds\n"
     ]
    },
    {
     "data": {
      "text/plain": [
       "'Process took: 0.0 hours, 1.0 minutes, 38.02237319946289 seconds'"
      ]
     },
     "execution_count": 164,
     "metadata": {},
     "output_type": "execute_result"
    }
   ],
   "source": [
    "start = time.time()\n",
    "clf_rf = RF(max_depth=None, n_estimators=500, max_features='log2').fit(X_train, y_train)\n",
    "end = time.time()\n",
    "print(\"Training time: \", timer(start, end))\n",
    "\n",
    "start = time.time()\n",
    "for i, tree_in_forest in enumerate(clf_rf.estimators_):\n",
    "    if i % 100 == 0:\n",
    "        with open('tree_' + str(i) + '.dot', 'w') as my_file:\n",
    "            my_file = tree.export_graphviz(tree_in_forest, out_file = my_file)\n",
    "end = time.time()\n",
    "timer(start, end)"
   ]
  },
  {
   "cell_type": "code",
   "execution_count": 168,
   "metadata": {
    "collapsed": false
   },
   "outputs": [
    {
     "data": {
      "text/plain": [
       "DecisionTreeClassifier(class_weight=None, criterion='gini', max_depth=None,\n",
       "            max_features='log2', max_leaf_nodes=None, min_samples_leaf=1,\n",
       "            min_samples_split=2, min_weight_fraction_leaf=0.0,\n",
       "            presort=False, random_state=337039339, splitter='best')"
      ]
     },
     "execution_count": 168,
     "metadata": {},
     "output_type": "execute_result"
    }
   ],
   "source": [
    "clf_rf.estimators_[0]"
   ]
  },
  {
   "cell_type": "code",
   "execution_count": 166,
   "metadata": {
    "collapsed": true
   },
   "outputs": [],
   "source": [
    "import os"
   ]
  },
  {
   "cell_type": "code",
   "execution_count": 167,
   "metadata": {
    "collapsed": false
   },
   "outputs": [
    {
     "data": {
      "text/plain": [
       "1"
      ]
     },
     "execution_count": 167,
     "metadata": {},
     "output_type": "execute_result"
    }
   ],
   "source": [
    "os.system('dot -Tpng tree_0.dot -o tree_0.png')"
   ]
  },
  {
   "cell_type": "markdown",
   "metadata": {},
   "source": [
    "### Feature Importance: Part 2"
   ]
  },
  {
   "cell_type": "code",
   "execution_count": null,
   "metadata": {
    "collapsed": true
   },
   "outputs": [],
   "source": [
    "#crossvalidate the scores on a number of different random splits of the data\n",
    "for train_idx, test_idx in ShuffleSplit(len(X), 100, .3):\n",
    "    X_train, X_test = X[train_idx], X[test_idx]\n",
    "    Y_train, Y_test = Y[train_idx], Y[test_idx]\n",
    "    r = rf.fit(X_train, Y_train)\n",
    "    acc = r2_score(Y_test, rf.predict(X_test))\n",
    "    for i in range(X.shape[1]):\n",
    "        X_t = X_test.copy()\n",
    "        np.random.shuffle(X_t[:, i])\n",
    "        shuff_acc = r2_score(Y_test, rf.predict(X_t))\n",
    "        scores[names[i]].append((acc-shuff_acc)/acc)\n",
    "print \"Features sorted by their score:\"\n",
    "print sorted([(round(np.mean(score), 4), feat) for\n",
    "              feat, score in scores.items()], reverse=True)\n",
    "\n",
    "\n",
    "# Get scores for all training on X_train, y_train, X_test, y_test\n",
    "\n",
    "# Remove one column and train and test again\n",
    "\n",
    "# Compare first score to score of removed column"
   ]
  },
  {
   "cell_type": "markdown",
   "metadata": {},
   "source": [
    "### Connecting to MongoDB"
   ]
  },
  {
   "cell_type": "code",
   "execution_count": 141,
   "metadata": {
    "collapsed": true
   },
   "outputs": [],
   "source": [
    "from pymongo import MongoClient"
   ]
  },
  {
   "cell_type": "code",
   "execution_count": 150,
   "metadata": {
    "collapsed": false
   },
   "outputs": [],
   "source": [
    "client = MongoClient('mongodb://mongo-elb-classic-193773297.us-west-2.elb.amazonaws.com:443/')"
   ]
  },
  {
   "cell_type": "code",
   "execution_count": 151,
   "metadata": {
    "collapsed": false
   },
   "outputs": [
    {
     "data": {
      "text/plain": [
       "<bound method MongoClient.database_names of MongoClient(host=['mongo-elb-classic-193773297.us-west-2.elb.amazonaws.com:443'], document_class=dict, tz_aware=False, connect=True)>"
      ]
     },
     "execution_count": 151,
     "metadata": {},
     "output_type": "execute_result"
    }
   ],
   "source": [
    "client.database_names"
   ]
  }
 ],
 "metadata": {
  "anaconda-cloud": {},
  "kernelspec": {
   "display_name": "Python 3",
   "language": "python",
   "name": "python3"
  },
  "language_info": {
   "codemirror_mode": {
    "name": "ipython",
    "version": 3
   },
   "file_extension": ".py",
   "mimetype": "text/x-python",
   "name": "python",
   "nbconvert_exporter": "python",
   "pygments_lexer": "ipython3",
   "version": "3.6.0"
  }
 },
 "nbformat": 4,
 "nbformat_minor": 0
}
